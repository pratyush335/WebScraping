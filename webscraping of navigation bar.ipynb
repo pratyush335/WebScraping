{
 "cells": [
  {
   "cell_type": "code",
   "execution_count": 1,
   "id": "90749dfd",
   "metadata": {},
   "outputs": [],
   "source": [
    "import pandas as pd\n",
    "from bs4 import BeautifulSoup as bs\n",
    "import bs4, requests, json\n",
    "import warnings\n",
    "warnings.filterwarnings('ignore')"
   ]
  },
  {
   "cell_type": "code",
   "execution_count": 2,
   "id": "90288c3a",
   "metadata": {},
   "outputs": [
    {
     "data": {
      "text/html": [
       "<div>\n",
       "<style scoped>\n",
       "    .dataframe tbody tr th:only-of-type {\n",
       "        vertical-align: middle;\n",
       "    }\n",
       "\n",
       "    .dataframe tbody tr th {\n",
       "        vertical-align: top;\n",
       "    }\n",
       "\n",
       "    .dataframe thead th {\n",
       "        text-align: right;\n",
       "    }\n",
       "</style>\n",
       "<table border=\"1\" class=\"dataframe\">\n",
       "  <thead>\n",
       "    <tr style=\"text-align: right;\">\n",
       "      <th></th>\n",
       "      <th>base_url</th>\n",
       "      <th>Unnamed: 1</th>\n",
       "      <th>Unnamed: 2</th>\n",
       "      <th>Unnamed: 3</th>\n",
       "    </tr>\n",
       "  </thead>\n",
       "  <tbody>\n",
       "    <tr>\n",
       "      <th>0</th>\n",
       "      <td>http://www.crowncastle.com</td>\n",
       "      <td>NaN</td>\n",
       "      <td>NaN</td>\n",
       "      <td>NaN</td>\n",
       "    </tr>\n",
       "    <tr>\n",
       "      <th>1</th>\n",
       "      <td>http://www.cadmusgroup.com</td>\n",
       "      <td>NaN</td>\n",
       "      <td>NaN</td>\n",
       "      <td>NaN</td>\n",
       "    </tr>\n",
       "    <tr>\n",
       "      <th>2</th>\n",
       "      <td>https://www.ni.com/en-in.html</td>\n",
       "      <td>NaN</td>\n",
       "      <td>NaN</td>\n",
       "      <td>NaN</td>\n",
       "    </tr>\n",
       "    <tr>\n",
       "      <th>3</th>\n",
       "      <td>https://ricardo.com/</td>\n",
       "      <td>NaN</td>\n",
       "      <td>NaN</td>\n",
       "      <td>NaN</td>\n",
       "    </tr>\n",
       "    <tr>\n",
       "      <th>4</th>\n",
       "      <td>https://volkert.com/</td>\n",
       "      <td>NaN</td>\n",
       "      <td>NaN</td>\n",
       "      <td>NaN</td>\n",
       "    </tr>\n",
       "  </tbody>\n",
       "</table>\n",
       "</div>"
      ],
      "text/plain": [
       "                        base_url  Unnamed: 1  Unnamed: 2  Unnamed: 3\n",
       "0     http://www.crowncastle.com         NaN         NaN         NaN\n",
       "1     http://www.cadmusgroup.com         NaN         NaN         NaN\n",
       "2  https://www.ni.com/en-in.html         NaN         NaN         NaN\n",
       "3           https://ricardo.com/         NaN         NaN         NaN\n",
       "4           https://volkert.com/         NaN         NaN         NaN"
      ]
     },
     "execution_count": 2,
     "metadata": {},
     "output_type": "execute_result"
    }
   ],
   "source": [
    "df = pd.read_csv(\"GovShop sample of supplier websites.csv\")\n",
    "df.head()"
   ]
  },
  {
   "cell_type": "code",
   "execution_count": 3,
   "id": "e43139d6",
   "metadata": {
    "scrolled": true
   },
   "outputs": [
    {
     "data": {
      "text/plain": [
       "'urls = list(df[df.columns[0]])\\ntest=urls[:5] #selecting just the five urls\\ntest\\noutput=[]\\n #Iterate through the sites\\nfor i in test:\\n    # run the first code, CODE 9\"\\n    url = i\\n    html_text = requests.get(url).text\\n    soup = bs(html_text, \\'html.parser\\') #Beautiful Soup to navigate our website and extract data\\n\\n    ul=soup.body.ul   #To get the ul within the HTML\\'s body tag\\n    key =[]   # empty list for storing all the li\\n    result ={}\\n    for li in ul.find_all(\"li\", recursive=False):  # searching for li in ul\\n        key = next(li.stripped_strings) # it gives all the li (main headings of the nav bar like \\n                                        # products, about, contact us, support)\\n        a=li.find_all(\"ul\")   #it gives all the ul under the li(for example: support is li and ul in\\n                               # support will be support services,support portal, trainng etc.)\\n        dic={}   # empty dictionory to put all the li and ul in required format)\\n        for j in range(0,len(a)):  # loop to get all the content under ul till its last depth\\n            for k in a[j].find_all(\\'li\\',recursive=False): # searching for li in main ul\\n                if len(list(k.stripped_strings))>1: # if there are li in ul\\n                    # if li in main ul exist, it will update the dic by keeping the li as key and ul\\n                    # ul as values\\n                    dic.update({list(k.stripped_strings)[0]: list(k.stripped_strings)[1:]})\\n                   # if there are no li-ul pair in main ul, then it will give li as key and value\\n                    # as empty\\n                else:\\n                    dic.update({list(k.stripped_strings)[0]: \"\"})\\n                    result[key]=dic  \\n    dic2 = dict()\\n    dic2[\\'code9\\']=result'"
      ]
     },
     "execution_count": 3,
     "metadata": {},
     "output_type": "execute_result"
    }
   ],
   "source": [
    "'''urls = list(df[df.columns[0]])\n",
    "test=urls[:5] #selecting just the five urls\n",
    "test\n",
    "output=[]\n",
    " #Iterate through the sites\n",
    "for i in test:\n",
    "    # run the first code, CODE 9\"\n",
    "    url = i\n",
    "    html_text = requests.get(url).text\n",
    "    soup = bs(html_text, 'html.parser') #Beautiful Soup to navigate our website and extract data\n",
    "\n",
    "    ul=soup.body.ul   #To get the ul within the HTML's body tag\n",
    "    key =[]   # empty list for storing all the li\n",
    "    result ={}\n",
    "    for li in ul.find_all(\"li\", recursive=False):  # searching for li in ul\n",
    "        key = next(li.stripped_strings) # it gives all the li (main headings of the nav bar like \n",
    "                                        # products, about, contact us, support)\n",
    "        a=li.find_all(\"ul\")   #it gives all the ul under the li(for example: support is li and ul in\n",
    "                               # support will be support services,support portal, trainng etc.)\n",
    "        dic={}   # empty dictionory to put all the li and ul in required format)\n",
    "        for j in range(0,len(a)):  # loop to get all the content under ul till its last depth\n",
    "            for k in a[j].find_all('li',recursive=False): # searching for li in main ul\n",
    "                if len(list(k.stripped_strings))>1: # if there are li in ul\n",
    "                    # if li in main ul exist, it will update the dic by keeping the li as key and ul\n",
    "                    # ul as values\n",
    "                    dic.update({list(k.stripped_strings)[0]: list(k.stripped_strings)[1:]})\n",
    "                   # if there are no li-ul pair in main ul, then it will give li as key and value\n",
    "                    # as empty\n",
    "                else:\n",
    "                    dic.update({list(k.stripped_strings)[0]: \"\"})\n",
    "                    result[key]=dic  \n",
    "    dic2 = dict()\n",
    "    dic2['code9']=result'''"
   ]
  },
  {
   "cell_type": "code",
   "execution_count": 4,
   "id": "c034e649",
   "metadata": {},
   "outputs": [],
   "source": [
    "urls = list(df[df.columns[0]])\n",
    "# test=urls[2] #selecting just the five urls\n",
    "test = 'https://www.trumpf.com/en_IN/'\n",
    "output=[]\n",
    "url = test\n",
    "html_text = requests.get(url).text\n",
    "soup = bs(html_text, 'html.parser')\n",
    "ul=soup.body.ul"
   ]
  },
  {
   "cell_type": "code",
   "execution_count": 161,
   "id": "33b0501c",
   "metadata": {
    "scrolled": true
   },
   "outputs": [],
   "source": [
    "key =[]   # empty list for storing all the li\n",
    "result ={}\n",
    "for li in ul.find_all(\"li\", recursive=False):  # searching for li in ul\n",
    "    key = next(li.stripped_strings) #li.stripped_strings is a generator object; \"next\" is used to get the content\n",
    "    a=li.find_all(\"ul\")\n",
    "    \n",
    "    dic={}\n",
    "    for j in range(0,len(a)):  # loop to get all the content under ul till its last depth\n",
    "        for k in a[j].find_all('li',recursive=False): # searching for li in main ul\n",
    "            if len(list(k.stripped_strings))>1: # if there are li in ul\n",
    "                # if li in main ul exist, it will update the dic by keeping the li as key and ul\n",
    "                # ul as values\n",
    "                dic.update({list(k.stripped_strings)[0]: list(k.stripped_strings)[1:]})\n",
    "               # if there are no li-ul pair in main ul, then it will give li as key and value\n",
    "                # as empty\n",
    "            elif (len(list(k.stripped_strings))==1): # added condition of 1 li under ul\n",
    "                dic.update({list(k.stripped_strings)[0]: \"\"})\n",
    "                result[key]=dic\n",
    "            else: # if there are zero li under ul\n",
    "                continue"
   ]
  },
  {
   "cell_type": "code",
   "execution_count": 163,
   "id": "8fafdf06",
   "metadata": {},
   "outputs": [
    {
     "data": {
      "text/plain": [
       "{'Products': {'Overview Products': '',\n",
       "  'Machines & systems': ['Overview Machines & systems',\n",
       "   '2D laser cutting machines',\n",
       "   '3D laser cutting machines',\n",
       "   'Laser welding systems and the arc welding cell',\n",
       "   'Laser tube cutting machines',\n",
       "   'Marking systems',\n",
       "   'Additive production systems',\n",
       "   'Punching machines',\n",
       "   'Punch laser machines',\n",
       "   'Bending machines',\n",
       "   'Storage systems',\n",
       "   'Automation'],\n",
       "  'Lasers': ['Overview Lasers',\n",
       "   'Disk lasers',\n",
       "   'Fiber laser',\n",
       "   'Diode lasers',\n",
       "   'Short and ultrashort pulse laser',\n",
       "   'Marking lasers',\n",
       "   'Pulsed lasers',\n",
       "   'CO2 lasers',\n",
       "   'EUV Drive Laser',\n",
       "   'Sensor system',\n",
       "   'Processing optics',\n",
       "   'Technology packages',\n",
       "   'Scientific lasers'],\n",
       "  'VCSEL solutions & photodiodes': ['Overview VCSEL solutions & photodiodes',\n",
       "   'Single & multimode VCSEL',\n",
       "   'Datacom VCSELs & photodiodes',\n",
       "   'Integrated VCSEL solutions',\n",
       "   'VCSEL heating systems'],\n",
       "  'Real-time localization (RTLS)': '',\n",
       "  'Power electronics': ['Overview Power electronics',\n",
       "   'Plasma Excitation',\n",
       "   'Induction generators',\n",
       "   'Inverters',\n",
       "   'Generators for industrial heating',\n",
       "   'Microwave amplifiers',\n",
       "   'TRUMPF Hüttinger Whitepaper'],\n",
       "  'Power tools': ['Overview Power tools',\n",
       "   'Battery machines',\n",
       "   'Slitting shears',\n",
       "   'Shear cutting',\n",
       "   'Nibbler',\n",
       "   'Profile nibbler',\n",
       "   'Panel cutter',\n",
       "   'Fiber Composite Nibbler',\n",
       "   'Seam locker',\n",
       "   'Power fastener',\n",
       "   'Deburrers',\n",
       "   'Beveler',\n",
       "   'Slat cleaner'],\n",
       "  'Software': '',\n",
       "  'Services': '',\n",
       "  'Overview Machines & systems': '',\n",
       "  '2D laser cutting machines': '',\n",
       "  '3D laser cutting machines': '',\n",
       "  'Laser welding systems and the arc welding cell': '',\n",
       "  'Laser tube cutting machines': '',\n",
       "  'Marking systems': '',\n",
       "  'Additive production systems': '',\n",
       "  'Punching machines': '',\n",
       "  'Punch laser machines': '',\n",
       "  'Bending machines': '',\n",
       "  'Storage systems': '',\n",
       "  'Automation': '',\n",
       "  'Overview Lasers': '',\n",
       "  'Disk lasers': '',\n",
       "  'Fiber laser': '',\n",
       "  'Diode lasers': '',\n",
       "  'Short and ultrashort pulse laser': '',\n",
       "  'Marking lasers': '',\n",
       "  'Pulsed lasers': '',\n",
       "  'CO2 lasers': '',\n",
       "  'EUV Drive Laser': '',\n",
       "  'Sensor system': '',\n",
       "  'Processing optics': '',\n",
       "  'Technology packages': '',\n",
       "  'Scientific lasers': '',\n",
       "  'Overview VCSEL solutions & photodiodes': '',\n",
       "  'Single & multimode VCSEL': '',\n",
       "  'Datacom VCSELs & photodiodes': '',\n",
       "  'Integrated VCSEL solutions': '',\n",
       "  'VCSEL heating systems': '',\n",
       "  'Overview Power electronics': '',\n",
       "  'Plasma Excitation': '',\n",
       "  'Induction generators': '',\n",
       "  'Inverters': '',\n",
       "  'Generators for industrial heating': '',\n",
       "  'Microwave amplifiers': '',\n",
       "  'TRUMPF Hüttinger Whitepaper': '',\n",
       "  'Overview Power tools': '',\n",
       "  'Battery machines': '',\n",
       "  'Slitting shears': '',\n",
       "  'Shear cutting': '',\n",
       "  'Nibbler': '',\n",
       "  'Profile nibbler': '',\n",
       "  'Panel cutter': '',\n",
       "  'Fiber Composite Nibbler': '',\n",
       "  'Seam locker': '',\n",
       "  'Power fastener': '',\n",
       "  'Deburrers': '',\n",
       "  'Beveler': '',\n",
       "  'Slat cleaner': ''},\n",
       " 'Solutions': {'Overview Solutions': '',\n",
       "  'Smart Factory': '',\n",
       "  'Applications': ['Overview Applications',\n",
       "   'Laser welding',\n",
       "   'Arc welding',\n",
       "   'Laser cutting',\n",
       "   'EUV lithography',\n",
       "   'Additive manufacturing',\n",
       "   'Surface processing with the laser',\n",
       "   'Microprocessing',\n",
       "   'Laser marking',\n",
       "   'Plasma technology',\n",
       "   'Induction heating',\n",
       "   'Cutting',\n",
       "   'Joining',\n",
       "   'Edge forming',\n",
       "   'Punching and nibbling',\n",
       "   'Bending',\n",
       "   'Optical sensing'],\n",
       "  'Industries': ['Overview Industries',\n",
       "   'Automotive',\n",
       "   'Construction industry',\n",
       "   'Sheet metal processing',\n",
       "   'Dental',\n",
       "   'Data communication',\n",
       "   'Displays',\n",
       "   'Electronics',\n",
       "   'Air conditioning and energy technology',\n",
       "   'Aviation and aerospace',\n",
       "   'Machine and systems engineering',\n",
       "   'Medical technology',\n",
       "   'Commercial vehicles and transport',\n",
       "   'Photovoltaics',\n",
       "   'Watch and jewelry industry',\n",
       "   'Tool and mold making',\n",
       "   'Science'],\n",
       "  'Success stories': '',\n",
       "  'Advantages of TRUMPF machines': ['Overview Advantages of TRUMPF machines',\n",
       "   'Advantages of 2D laser cutting machines',\n",
       "   'Advantages of bending machines',\n",
       "   'Advantages of punching machines',\n",
       "   'Advantages of punch laser machines',\n",
       "   'Advantages of laser tube cutting machines',\n",
       "   'Advantages of the TRUMPF VCSEL',\n",
       "   'Advantages of additive production systems'],\n",
       "  'Overview Smart Factory': '',\n",
       "  'Starting out': '',\n",
       "  'Step-by-step expansion': '',\n",
       "  'Fully networked': '',\n",
       "  'Smart Factory Consulting': '',\n",
       "  'Our Smart Factories': '',\n",
       "  'Lot size of 1': '',\n",
       "  'Transparency with real-time locating systems': '',\n",
       "  'Smart Material Flow': '',\n",
       "  'Overview Applications': '',\n",
       "  'Laser welding': '',\n",
       "  'Arc welding': '',\n",
       "  'Laser cutting': '',\n",
       "  'EUV lithography': '',\n",
       "  'Additive manufacturing': '',\n",
       "  'Surface processing with the laser': '',\n",
       "  'Microprocessing': '',\n",
       "  'Laser marking': '',\n",
       "  'Plasma technology': '',\n",
       "  'Induction heating': '',\n",
       "  'Cutting': '',\n",
       "  'Joining': '',\n",
       "  'Edge forming': '',\n",
       "  'Punching and nibbling': '',\n",
       "  'Bending': '',\n",
       "  'Optical sensing': '',\n",
       "  'Overview Industries': '',\n",
       "  'Automotive': '',\n",
       "  'Construction industry': '',\n",
       "  'Sheet metal processing': '',\n",
       "  'Dental': '',\n",
       "  'Data communication': '',\n",
       "  'Displays': '',\n",
       "  'Electronics': '',\n",
       "  'Air conditioning and energy technology': '',\n",
       "  'Aviation and aerospace': '',\n",
       "  'Machine and systems engineering': '',\n",
       "  'Medical technology': '',\n",
       "  'Commercial vehicles and transport': '',\n",
       "  'Photovoltaics': '',\n",
       "  'Watch and jewelry industry': '',\n",
       "  'Tool and mold making': '',\n",
       "  'Science': '',\n",
       "  'Overview Advantages of TRUMPF machines': '',\n",
       "  'Advantages of 2D laser cutting machines': '',\n",
       "  'Advantages of bending machines': '',\n",
       "  'Advantages of punching machines': '',\n",
       "  'Advantages of punch laser machines': '',\n",
       "  'Advantages of laser tube cutting machines': '',\n",
       "  'Advantages of the TRUMPF VCSEL': '',\n",
       "  'Advantages of additive production systems': ''},\n",
       " 'Company': {'Overview Company': '',\n",
       "  'Responsibility': ['Overview Responsibility',\n",
       "   'Culture',\n",
       "   'Employees',\n",
       "   'Education',\n",
       "   'Society',\n",
       "   'Products and supply chain',\n",
       "   'Environment'],\n",
       "  'TRUMPF Group': ['Overview TRUMPF Group',\n",
       "   'Managing Board',\n",
       "   'Company profile',\n",
       "   'Supervisory Board',\n",
       "   'Locations',\n",
       "   'Events and dates for your calendar',\n",
       "   'Annual report',\n",
       "   'Suppliers',\n",
       "   'SYNCHRO',\n",
       "   'Quality',\n",
       "   'Company Principles',\n",
       "   'Milestones in the history of TRUMPF',\n",
       "   'Affiliated companies and other brands',\n",
       "   'TRUMPF Venture',\n",
       "   'Financial Services'],\n",
       "  'Overview Responsibility': '',\n",
       "  'Culture': '',\n",
       "  'Employees': '',\n",
       "  'Education': '',\n",
       "  'Society': '',\n",
       "  'Products and supply chain': '',\n",
       "  'Environment': '',\n",
       "  'Overview TRUMPF Group': '',\n",
       "  'Managing Board': '',\n",
       "  'Company profile': '',\n",
       "  'Supervisory Board': '',\n",
       "  'Locations': '',\n",
       "  'Events and dates for your calendar': '',\n",
       "  'Annual report': '',\n",
       "  'Suppliers': '',\n",
       "  'SYNCHRO': '',\n",
       "  'Quality': '',\n",
       "  'Company Principles': '',\n",
       "  'Milestones in the history of TRUMPF': '',\n",
       "  'Affiliated companies and other brands': '',\n",
       "  'TRUMPF Venture': '',\n",
       "  'Financial Services': ''},\n",
       " 'Careers': {'Overview Careers': '',\n",
       "  'Vacancies': '',\n",
       "  'TRUMPF as an employer': '',\n",
       "  'Experienced professionals': '',\n",
       "  'Graduates': '',\n",
       "  'College students': '',\n",
       "  'High school students': '',\n",
       "  'How to apply': '',\n",
       "  'People at TRUMPF': '',\n",
       "  'Overview TRUMPF as an employer': '',\n",
       "  'Benefits and opportunities': '',\n",
       "  'Diversity': '',\n",
       "  'Development opportunities': '',\n",
       "  'International work': ''}}"
      ]
     },
     "execution_count": 163,
     "metadata": {},
     "output_type": "execute_result"
    }
   ],
   "source": [
    "result"
   ]
  },
  {
   "cell_type": "code",
   "execution_count": 27,
   "id": "0389bc87",
   "metadata": {
    "scrolled": true
   },
   "outputs": [
    {
     "name": "stdout",
     "output_type": "stream",
     "text": [
      "<class 'bs4.element.NavigableString'>\n"
     ]
    }
   ],
   "source": [
    "# print(type(soup.title.string))"
   ]
  },
  {
   "cell_type": "code",
   "execution_count": 32,
   "id": "fd55e3c0",
   "metadata": {},
   "outputs": [],
   "source": [
    "# paras = soup.find_all('p')"
   ]
  },
  {
   "cell_type": "code",
   "execution_count": 34,
   "id": "92bb193f",
   "metadata": {},
   "outputs": [],
   "source": [
    "# anchors = soup.find_all('a')\n",
    "# # print(anchors)"
   ]
  },
  {
   "cell_type": "code",
   "execution_count": 38,
   "id": "2b65f8f7",
   "metadata": {},
   "outputs": [],
   "source": [
    "# first_anchor = soup.find('a')\n",
    "# # print(first_anchor.get_text())"
   ]
  },
  {
   "cell_type": "code",
   "execution_count": 113,
   "id": "89ff8e4f",
   "metadata": {
    "scrolled": true
   },
   "outputs": [],
   "source": [
    "# soup.find('ul').get_text()"
   ]
  },
  {
   "cell_type": "code",
   "execution_count": 66,
   "id": "5fa8eaac",
   "metadata": {},
   "outputs": [],
   "source": [
    "\n",
    "\n",
    "# links = set()\n",
    "# for link in anchors:\n",
    "#     if (link.get('href')!='#' or link.get('href')!=None):\n",
    "#         linktext = 'https://www.trumpf.com/'+ str(link.get('href'))\n",
    "#         links.add(linktext)\n",
    "#     else:\n",
    "#         continue"
   ]
  },
  {
   "cell_type": "code",
   "execution_count": 84,
   "id": "383d1ce6",
   "metadata": {},
   "outputs": [],
   "source": [
    "# nav = soup.body.nav\n",
    "# nav_items=set()\n",
    "# for item in ul.li.strings:\n",
    "#     if item.strip()!='':\n",
    "#         nav_items.add(item.strip())"
   ]
  },
  {
   "cell_type": "code",
   "execution_count": 88,
   "id": "280b93b1",
   "metadata": {
    "scrolled": true
   },
   "outputs": [],
   "source": [
    "# for item in ul.stripped_strings:\n",
    "#     print(item)"
   ]
  },
  {
   "cell_type": "code",
   "execution_count": 112,
   "id": "99bff923",
   "metadata": {},
   "outputs": [],
   "source": [
    "# for item in nav.ul.li.ul.li.a.children:\n",
    "#     print(item.name)"
   ]
  },
  {
   "cell_type": "markdown",
   "id": "7b47bde9",
   "metadata": {},
   "source": [
    "# Code 2"
   ]
  },
  {
   "cell_type": "code",
   "execution_count": 9,
   "id": "40c31e4c",
   "metadata": {
    "scrolled": false
   },
   "outputs": [
    {
     "name": "stdout",
     "output_type": "stream",
     "text": [
      "None\n",
      "ul\n",
      "None\n"
     ]
    }
   ],
   "source": [
    "URL = 'https://www.trumpf.com/en_IN/'\n",
    "\n",
    "page = bs4.BeautifulSoup(requests.get(URL).text, 'html.parser')\n",
    "for nav in page.select('nav'): #find all `nav` elements from which to anchor search\n",
    "    for i in nav.contents:\n",
    "        print(getattr(i,'name'))"
   ]
  },
  {
   "cell_type": "markdown",
   "id": "16e3024d",
   "metadata": {},
   "source": [
    "## 1. Function Base Text"
   ]
  },
  {
   "cell_type": "code",
   "execution_count": 39,
   "id": "b6cbc208",
   "metadata": {},
   "outputs": [],
   "source": [
    "def base_text(elem):\n",
    "    if isinstance(elem, bs4.element.NavigableString): # if element is navigable string then...\n",
    "        return str(elem).rstrip().lstrip() #method 1\n",
    "    \n",
    "    return elem.get_text(strip=True) #method 2"
   ]
  },
  {
   "cell_type": "code",
   "execution_count": 80,
   "id": "0b4d70a4",
   "metadata": {},
   "outputs": [
    {
     "data": {
      "text/plain": [
       "'TRUMPF SE + Co. KG | TRUMPF'"
      ]
     },
     "execution_count": 80,
     "metadata": {},
     "output_type": "execute_result"
    }
   ],
   "source": [
    "page.title.string"
   ]
  },
  {
   "cell_type": "code",
   "execution_count": 40,
   "id": "0e713a46",
   "metadata": {},
   "outputs": [
    {
     "data": {
      "text/plain": [
       "'TRUMPF SE + Co. KG | TRUMPF'"
      ]
     },
     "execution_count": 40,
     "metadata": {},
     "output_type": "execute_result"
    }
   ],
   "source": [
    "elem = (page.title.string) #this is a navigable string\n",
    "\n",
    "base_text(elem)"
   ]
  },
  {
   "cell_type": "code",
   "execution_count": 83,
   "id": "2ecb4fbf",
   "metadata": {},
   "outputs": [
    {
     "data": {
      "text/plain": [
       "<a href=\"/en_IN/products/\">Products</a>"
      ]
     },
     "execution_count": 83,
     "metadata": {},
     "output_type": "execute_result"
    }
   ],
   "source": [
    "page.ul.li.a"
   ]
  },
  {
   "cell_type": "code",
   "execution_count": 84,
   "id": "0f548a2a",
   "metadata": {},
   "outputs": [
    {
     "data": {
      "text/plain": [
       "bs4.element.Tag"
      ]
     },
     "execution_count": 84,
     "metadata": {},
     "output_type": "execute_result"
    }
   ],
   "source": [
    "type(page.ul.li.a)# this is a tag"
   ]
  },
  {
   "cell_type": "code",
   "execution_count": 85,
   "id": "620dc034",
   "metadata": {},
   "outputs": [],
   "source": [
    "elem_tag = page.ul.li.a  "
   ]
  },
  {
   "cell_type": "markdown",
   "id": "ffa955c8",
   "metadata": {},
   "source": [
    "### method 1"
   ]
  },
  {
   "cell_type": "code",
   "execution_count": 87,
   "id": "477c4103",
   "metadata": {},
   "outputs": [
    {
     "data": {
      "text/plain": [
       "'<a href=\"/en_IN/products/\">Products</a>'"
      ]
     },
     "execution_count": 87,
     "metadata": {},
     "output_type": "execute_result"
    }
   ],
   "source": [
    "str(elem_tag).rstrip().lstrip()"
   ]
  },
  {
   "cell_type": "markdown",
   "id": "6aa74e9a",
   "metadata": {},
   "source": [
    "### method 2"
   ]
  },
  {
   "cell_type": "code",
   "execution_count": 89,
   "id": "6058601d",
   "metadata": {},
   "outputs": [
    {
     "data": {
      "text/plain": [
       "'Products'"
      ]
     },
     "execution_count": 89,
     "metadata": {},
     "output_type": "execute_result"
    }
   ],
   "source": [
    "elem_tag.get_text(strip=True)"
   ]
  },
  {
   "cell_type": "markdown",
   "id": "5cdf787c",
   "metadata": {},
   "source": [
    "## Function 2: to_dict\n",
    "\n",
    "Combining several dictionaries/lists into a single dictionary/list"
   ]
  },
  {
   "cell_type": "code",
   "execution_count": 90,
   "id": "d9a8a3c8",
   "metadata": {},
   "outputs": [],
   "source": [
    "def to_dict(r):\n",
    "    if all(isinstance(i, dict) for i in r): # if ALL i are dictionaries ...\n",
    "        return {a:b for i in r for a, b in i.items()} # ... return ...a dict \n",
    "    if all(isinstance(i, list) for i in r): # if ALL i are lists ...\n",
    "        return [i for b in r for i in b]\n",
    "    return r"
   ]
  },
  {
   "cell_type": "code",
   "execution_count": 102,
   "id": "d0cb1e64",
   "metadata": {},
   "outputs": [
    {
     "data": {
      "text/plain": [
       "{'a': 1, 'b': 2, 'c': 3, 'd': 4, 'e': 5, 'f': 6, 'g': 7, 'h': 8}"
      ]
     },
     "execution_count": 102,
     "metadata": {},
     "output_type": "execute_result"
    }
   ],
   "source": [
    "temp_dict = [{'a':1, 'b':2, 'c':3,'d':4}, {'e':5, 'f':6, 'g':7,'h':8}]\n",
    "temp_list = [1,2,3,4],[5,6,7,8]\n",
    "to_dict(temp_dict)"
   ]
  },
  {
   "cell_type": "code",
   "execution_count": 103,
   "id": "5b760936",
   "metadata": {},
   "outputs": [
    {
     "data": {
      "text/plain": [
       "{'a': 1, 'b': 2, 'c': 3, 'd': 4, 'e': 5, 'f': 6, 'g': 7, 'h': 8}"
      ]
     },
     "execution_count": 103,
     "metadata": {},
     "output_type": "execute_result"
    }
   ],
   "source": [
    "to_dict(temp_dict)"
   ]
  },
  {
   "cell_type": "code",
   "execution_count": 104,
   "id": "35438f73",
   "metadata": {},
   "outputs": [
    {
     "data": {
      "text/plain": [
       "[1, 2, 3, 4, 5, 6, 7, 8]"
      ]
     },
     "execution_count": 104,
     "metadata": {},
     "output_type": "execute_result"
    }
   ],
   "source": [
    "to_dict(temp_list)"
   ]
  },
  {
   "cell_type": "code",
   "execution_count": 159,
   "id": "a10f6dcb",
   "metadata": {},
   "outputs": [],
   "source": [
    "def get_menu(page_name):\n",
    "    if page_name.name == 'li':\n",
    "        #collect all li values, create a dictionary if li has a ul child\n",
    "        li_text = []\n",
    "        for i in page_name.contents:\n",
    "            if isinstance(i, bs4.element.NavigableString) or i.select_one('ul') is None:\n",
    "                if (t:=base_text(i)): #default li text\n",
    "                    li_text.append(t)\n",
    "            else: #li contains a ul, build a dict with li's text as key\n",
    "                if li_text:\n",
    "                    li_text.append({li_text.pop():to_dict([*get_menu(i)])})\n",
    "                else:\n",
    "                    yield to_dict([*get_menu(i)])\n",
    "        yield from li_text #return li text as a generator object \n",
    "        return # return None\n",
    "    all_text = []\n",
    "    for i in page_name.contents:\n",
    "        if getattr(i, 'name', None) == 'ul':\n",
    "            r = [*get_menu(i)] #get ul's li values\n",
    "            e, flag = i, False\n",
    "            while (e:=e.previous_sibling) is not None: #check if ul has descriptive text\n",
    "                if (isinstance(e, bs4.element.NavigableString) or e.select_one('ul') is None) and base_text(e):\n",
    "                    yield {base_text(e):to_dict(r)} #yield back dictionary if text exists\n",
    "                    flag = True\n",
    "                    break\n",
    "            if not flag: yield to_dict(r)\n",
    "        elif not isinstance(i, bs4.element.NavigableString):\n",
    "            yield from get_menu(i) #recursively traverse element"
   ]
  },
  {
   "cell_type": "code",
   "execution_count": 139,
   "id": "7213f52d",
   "metadata": {
    "scrolled": false
   },
   "outputs": [
    {
     "data": {
      "text/plain": [
       "'ul'"
      ]
     },
     "execution_count": 139,
     "metadata": {},
     "output_type": "execute_result"
    }
   ],
   "source": [
    "page.ul.name"
   ]
  },
  {
   "cell_type": "code",
   "execution_count": 142,
   "id": "cee418bb",
   "metadata": {},
   "outputs": [],
   "source": [
    "# page.ul.contents #list of all the contents/children inside the tag"
   ]
  },
  {
   "cell_type": "code",
   "execution_count": 151,
   "id": "c04eaf4e",
   "metadata": {},
   "outputs": [
    {
     "data": {
      "text/plain": [
       "<li class=\"ux-iws-nav__lvl2-item ux-iws-nav__lvl2-item--overview ux-iws-nav--not-active\">\n",
       "<a href=\"/en_IN/products/\">Overview Products</a>\n",
       "</li>"
      ]
     },
     "execution_count": 151,
     "metadata": {},
     "output_type": "execute_result"
    }
   ],
   "source": [
    "# page.nav.ul.li.select_one('li') # select_one returns the first tag that match a particular criteria"
   ]
  },
  {
   "cell_type": "markdown",
   "id": "2d04b787",
   "metadata": {},
   "source": [
    "#### Walrus Operator"
   ]
  },
  {
   "cell_type": "code",
   "execution_count": 154,
   "id": "eb9c8172",
   "metadata": {},
   "outputs": [
    {
     "name": "stdout",
     "output_type": "stream",
     "text": [
      "{'length': 9, 'sum': 45, 'mean': 5.0}\n"
     ]
    }
   ],
   "source": [
    "num = [1,2,3,4,5,6,7,8,9]\n",
    "\n",
    "num_len = len(num)\n",
    "num_sum = sum(num)\n",
    "\n",
    "num_mean = num_sum/num_len\n",
    "\n",
    "num_stats = {\n",
    "    'length': num_len,\n",
    "    'sum': num_sum, #repeated varaibles in code thrice\n",
    "    'mean': num_mean #repeated varaibles in code twice\n",
    "}\n",
    "print(num_stats) "
   ]
  },
  {
   "cell_type": "code",
   "execution_count": 160,
   "id": "45509bae",
   "metadata": {},
   "outputs": [
    {
     "name": "stdout",
     "output_type": "stream",
     "text": [
      "{'length': 9, 'sum': 45, 'mean': 5.0}\n"
     ]
    }
   ],
   "source": [
    "num_wal = [1,2,3,4,5,6,7,8,9]\n",
    "\n",
    "num_stats_wal = {\n",
    "    'length':(num_len := len(num_wal)), # NOTE: (xxx:=xxx) close the assignment in parenthesis\n",
    "    'sum':(num_sum := sum(num_wal)),\n",
    "    'mean':num_sum/num_len\n",
    "}\n",
    "\n",
    "print(num_stats_wal)"
   ]
  },
  {
   "cell_type": "code",
   "execution_count": 161,
   "id": "b070b28b",
   "metadata": {},
   "outputs": [
    {
     "name": "stdout",
     "output_type": "stream",
     "text": [
      "True\n",
      "True\n",
      "False\n"
     ]
    }
   ],
   "source": [
    "for i in page.contents:\n",
    "    if isinstance(i,bs4.element.NavigableString) or i.select_one('ul') is None:\n",
    "        print(True)\n",
    "    else:\n",
    "        print(False)"
   ]
  },
  {
   "cell_type": "markdown",
   "id": "b2733e86",
   "metadata": {},
   "source": [
    "#### * and ** operator"
   ]
  },
  {
   "cell_type": "code",
   "execution_count": 195,
   "id": "7f6c0dec",
   "metadata": {},
   "outputs": [],
   "source": [
    "list_op = [1,2,3,4,5]\n",
    "dict_op = {'a':1, 'b':2, 'c':3,'d':4}"
   ]
  },
  {
   "cell_type": "code",
   "execution_count": 188,
   "id": "ee30aa0b",
   "metadata": {},
   "outputs": [],
   "source": [
    "def foo_op(*args):\n",
    "    return args"
   ]
  },
  {
   "cell_type": "code",
   "execution_count": 218,
   "id": "5484dd91",
   "metadata": {},
   "outputs": [
    {
     "data": {
      "text/plain": [
       "(1, 2, 3, 4, 5)"
      ]
     },
     "execution_count": 218,
     "metadata": {},
     "output_type": "execute_result"
    }
   ],
   "source": [
    "foo_op(*list_op)"
   ]
  },
  {
   "cell_type": "code",
   "execution_count": 212,
   "id": "09ce73ce",
   "metadata": {},
   "outputs": [
    {
     "data": {
      "text/plain": [
       "{'a': 1, 'b': 2, 'c': 3, 'd': 4}"
      ]
     },
     "execution_count": 212,
     "metadata": {},
     "output_type": "execute_result"
    }
   ],
   "source": [
    "def foo_op2(**args):\n",
    "    return args\n",
    "foo_op2(**dict_op)"
   ]
  },
  {
   "cell_type": "code",
   "execution_count": 202,
   "id": "5215cf39",
   "metadata": {},
   "outputs": [
    {
     "name": "stdout",
     "output_type": "stream",
     "text": [
      "1 2 3 4 5\n"
     ]
    }
   ],
   "source": [
    "print(*list_op)"
   ]
  },
  {
   "cell_type": "markdown",
   "id": "06d49273",
   "metadata": {},
   "source": [
    "#### yield"
   ]
  },
  {
   "cell_type": "code",
   "execution_count": 233,
   "id": "6afc5ae1",
   "metadata": {},
   "outputs": [],
   "source": [
    "def foo3(obj):\n",
    "    yield obj # returns a generator object which can be iterated over"
   ]
  },
  {
   "cell_type": "code",
   "execution_count": 237,
   "id": "cfcf6db6",
   "metadata": {},
   "outputs": [
    {
     "name": "stdout",
     "output_type": "stream",
     "text": [
      "1\n",
      "2\n",
      "3\n",
      "4\n",
      "5\n"
     ]
    }
   ],
   "source": [
    "list_y = [1,2,3,4,5]\n",
    "\n",
    "for i in foo3(list_y):\n",
    "    print(i)"
   ]
  }
 ],
 "metadata": {
  "kernelspec": {
   "display_name": "Python 3",
   "language": "python",
   "name": "python3"
  },
  "language_info": {
   "codemirror_mode": {
    "name": "ipython",
    "version": 3
   },
   "file_extension": ".py",
   "mimetype": "text/x-python",
   "name": "python",
   "nbconvert_exporter": "python",
   "pygments_lexer": "ipython3",
   "version": "3.8.8"
  }
 },
 "nbformat": 4,
 "nbformat_minor": 5
}
