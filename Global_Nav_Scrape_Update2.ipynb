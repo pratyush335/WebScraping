{
 "cells": [
  {
   "cell_type": "markdown",
   "metadata": {
    "id": "C4DUifIBTaVz"
   },
   "source": [
    "# Code Nav String"
   ]
  },
  {
   "cell_type": "code",
   "execution_count": 96,
   "metadata": {
    "id": "4l68zOGGSwIo"
   },
   "outputs": [],
   "source": [
    "import pandas as pd\n",
    "import sys\n",
    "import  random\n",
    "import traceback\n",
    "import webbrowser\n",
    "from random import sample\n",
    "from tqdm import tqdm\n",
    "from bs4 import BeautifulSoup as bs\n",
    "import bs4, requests, json\n",
    "import warnings\n",
    "import re\n",
    "warnings.filterwarnings('ignore')"
   ]
  },
  {
   "cell_type": "code",
   "execution_count": 2,
   "metadata": {
    "colab": {
     "base_uri": "https://localhost:8080/",
     "height": 206
    },
    "id": "09Drx7HQSzrE",
    "outputId": "eb45db46-c319-4015-f499-68e2acec3180"
   },
   "outputs": [
    {
     "data": {
      "text/html": [
       "<div>\n",
       "<style scoped>\n",
       "    .dataframe tbody tr th:only-of-type {\n",
       "        vertical-align: middle;\n",
       "    }\n",
       "\n",
       "    .dataframe tbody tr th {\n",
       "        vertical-align: top;\n",
       "    }\n",
       "\n",
       "    .dataframe thead th {\n",
       "        text-align: right;\n",
       "    }\n",
       "</style>\n",
       "<table border=\"1\" class=\"dataframe\">\n",
       "  <thead>\n",
       "    <tr style=\"text-align: right;\">\n",
       "      <th></th>\n",
       "      <th>Unnamed: 0</th>\n",
       "      <th>id</th>\n",
       "      <th>name</th>\n",
       "      <th>website</th>\n",
       "    </tr>\n",
       "  </thead>\n",
       "  <tbody>\n",
       "    <tr>\n",
       "      <th>0</th>\n",
       "      <td>0</td>\n",
       "      <td>2602060</td>\n",
       "      <td>Nathan Clark Team</td>\n",
       "      <td>https://www.nathanclarkteam.com</td>\n",
       "    </tr>\n",
       "    <tr>\n",
       "      <th>1</th>\n",
       "      <td>1</td>\n",
       "      <td>1783757</td>\n",
       "      <td>Redback Networks</td>\n",
       "      <td>https://www.ericsson.com/</td>\n",
       "    </tr>\n",
       "    <tr>\n",
       "      <th>2</th>\n",
       "      <td>2</td>\n",
       "      <td>2602061</td>\n",
       "      <td>Cataldo Ambulance Service</td>\n",
       "      <td>https://cataldoambulance.com</td>\n",
       "    </tr>\n",
       "    <tr>\n",
       "      <th>3</th>\n",
       "      <td>3</td>\n",
       "      <td>2602062</td>\n",
       "      <td>Quantum Crossings</td>\n",
       "      <td>http://quantumcrossings.com/</td>\n",
       "    </tr>\n",
       "    <tr>\n",
       "      <th>4</th>\n",
       "      <td>4</td>\n",
       "      <td>2602070</td>\n",
       "      <td>Ejes</td>\n",
       "      <td>http://www.ejesinc.com/</td>\n",
       "    </tr>\n",
       "  </tbody>\n",
       "</table>\n",
       "</div>"
      ],
      "text/plain": [
       "   Unnamed: 0       id                       name  \\\n",
       "0           0  2602060          Nathan Clark Team   \n",
       "1           1  1783757           Redback Networks   \n",
       "2           2  2602061  Cataldo Ambulance Service   \n",
       "3           3  2602062          Quantum Crossings   \n",
       "4           4  2602070                       Ejes   \n",
       "\n",
       "                           website  \n",
       "0  https://www.nathanclarkteam.com  \n",
       "1        https://www.ericsson.com/  \n",
       "2     https://cataldoambulance.com  \n",
       "3     http://quantumcrossings.com/  \n",
       "4          http://www.ejesinc.com/  "
      ]
     },
     "execution_count": 2,
     "metadata": {},
     "output_type": "execute_result"
    }
   ],
   "source": [
    "# df = pd.read_csv(\"/content/Final list1.csv\")\n",
    "# df.head()\n",
    "ddf = pd.read_excel(\"US-supplier-website-10k.xlsx\")\n",
    "ddf.head()"
   ]
  },
  {
   "cell_type": "code",
   "execution_count": 10,
   "metadata": {
    "id": "d9iUMhHZTCs8"
   },
   "outputs": [],
   "source": [
    "import bs4, requests, json\n",
    "\n",
    "def to_dict(r):\n",
    "    if all(isinstance(i, dict) for i in r):\n",
    "        return {a:b for i in r for a, b in i.items()}\n",
    "    if all(isinstance(i, list) for i in r):\n",
    "        return [i for b in r for i in b]\n",
    "    return r\n",
    "\n",
    "def base_text(elem):\n",
    "    if isinstance(elem, bs4.element.NavigableString):\n",
    "        return str(elem).rstrip().lstrip()\n",
    "    \n",
    "    return elem.get_text(strip=True)\n",
    "\n",
    "def get_menu(page_name):\n",
    "    if page_name.name == 'li':\n",
    "        #collect all li values, create a dictionary if li has a ul child\n",
    "        li_text = []\n",
    "        for i in page_name.contents:\n",
    "            if isinstance(i, bs4.element.NavigableString) or i.select_one('ul') is None:\n",
    "                if (t:=base_text(i)): #default li text\n",
    "                    li_text.append(t)\n",
    "            else: #li contains a ul, build a dict with li's text as key\n",
    "                if li_text:\n",
    "                    li_text.append({li_text.pop():to_dict([*get_menu(i)])})\n",
    "                else:\n",
    "                    yield to_dict([*get_menu(i)])\n",
    "        yield from li_text\n",
    "        return\n",
    "    all_text = []\n",
    "    for i in page_name.contents:\n",
    "        if getattr(i, 'name', None) == 'ul':\n",
    "            r = [*get_menu(i)] #get ul's li values\n",
    "            e, flag = i, False\n",
    "            while (e:=e.previous_sibling) is not None: #check if ul has descriptive text\n",
    "                if (isinstance(e, bs4.element.NavigableString) or e.select_one('ul') is None) and base_text(e):\n",
    "                    yield {base_text(e):to_dict(r)} #yield back dictionary if text exists\n",
    "                    flag = True\n",
    "                    break\n",
    "            if not flag: yield to_dict(r)\n",
    "        elif not isinstance(i, bs4.element.NavigableString):\n",
    "            yield from get_menu(i) #recursively traverse element\n",
    "\n",
    "def menu_items(link):\n",
    "    page = bs4.BeautifulSoup(requests.get(link).text, 'html.parser')\n",
    "    for nav in page.select('nav'): #find all `nav` elements from which to anchor search\n",
    "        yield to_dict([*get_menu(nav)])      \n",
    "def code_nav_string(url:str)->list:\n",
    "    temp_list = []\n",
    "    dic1 = dict()\n",
    "    for i in menu_items(url):\n",
    "        temp_list.append(i)\n",
    "#     if temp_list!=[]:\n",
    "    if any(temp_list):\n",
    "        dic1[\"nav_string\"]= temp_list\n",
    "        return dic1\n",
    "    else:\n",
    "        return [] #return empty list in case of 'none' output\n",
    "    \n",
    "# This code return empty list for none output"
   ]
  },
  {
   "cell_type": "code",
   "execution_count": 12,
   "metadata": {
    "colab": {
     "base_uri": "https://localhost:8080/"
    },
    "id": "1xOkbrWvxQ25",
    "outputId": "731fb6ce-a095-4ea4-b33a-af5bd0eba084"
   },
   "outputs": [
    {
     "data": {
      "text/plain": [
       "[]"
      ]
     },
     "execution_count": 12,
     "metadata": {},
     "output_type": "execute_result"
    }
   ],
   "source": [
    "code_nav_string('https://cercocorp.com/')"
   ]
  },
  {
   "cell_type": "code",
   "execution_count": 11,
   "metadata": {},
   "outputs": [
    {
     "data": {
      "text/plain": [
       "[]"
      ]
     },
     "execution_count": 11,
     "metadata": {},
     "output_type": "execute_result"
    }
   ],
   "source": [
    "code_nav_string('http://www.altenergystocks.com/')"
   ]
  },
  {
   "cell_type": "markdown",
   "metadata": {
    "id": "BwnNFrb0XjHL"
   },
   "source": [
    "# Code ul_li_li"
   ]
  },
  {
   "cell_type": "code",
   "execution_count": 13,
   "metadata": {
    "id": "u_sAu5pbXk-7"
   },
   "outputs": [],
   "source": [
    "import pandas as pd\n",
    "from bs4 import BeautifulSoup as bs\n",
    "import bs4, requests, json\n",
    "import warnings\n",
    "warnings.filterwarnings('ignore')"
   ]
  },
  {
   "cell_type": "code",
   "execution_count": null,
   "metadata": {
    "colab": {
     "base_uri": "https://localhost:8080/",
     "height": 206
    },
    "id": "sZKVJtybXs1G",
    "outputId": "e3caa1f8-461f-464f-a8b3-d4245625cd34"
   },
   "outputs": [
    {
     "data": {
      "text/html": [
       "\n",
       "  <div id=\"df-746e1751-1be5-42bb-86a1-4bb4872a7fc9\">\n",
       "    <div class=\"colab-df-container\">\n",
       "      <div>\n",
       "<style scoped>\n",
       "    .dataframe tbody tr th:only-of-type {\n",
       "        vertical-align: middle;\n",
       "    }\n",
       "\n",
       "    .dataframe tbody tr th {\n",
       "        vertical-align: top;\n",
       "    }\n",
       "\n",
       "    .dataframe thead th {\n",
       "        text-align: right;\n",
       "    }\n",
       "</style>\n",
       "<table border=\"1\" class=\"dataframe\">\n",
       "  <thead>\n",
       "    <tr style=\"text-align: right;\">\n",
       "      <th></th>\n",
       "      <th>URL</th>\n",
       "      <th>Code_name</th>\n",
       "      <th>Result</th>\n",
       "    </tr>\n",
       "  </thead>\n",
       "  <tbody>\n",
       "    <tr>\n",
       "      <th>0</th>\n",
       "      <td>http://www.lynx.com</td>\n",
       "      <td>0</td>\n",
       "      <td>0</td>\n",
       "    </tr>\n",
       "    <tr>\n",
       "      <th>1</th>\n",
       "      <td>https://www.bv.com/</td>\n",
       "      <td>0</td>\n",
       "      <td>0</td>\n",
       "    </tr>\n",
       "    <tr>\n",
       "      <th>2</th>\n",
       "      <td>https://www.lytx.com</td>\n",
       "      <td>0</td>\n",
       "      <td>0</td>\n",
       "    </tr>\n",
       "    <tr>\n",
       "      <th>3</th>\n",
       "      <td>http://www.saic.com</td>\n",
       "      <td>0</td>\n",
       "      <td>0</td>\n",
       "    </tr>\n",
       "    <tr>\n",
       "      <th>4</th>\n",
       "      <td>http://vhb.com</td>\n",
       "      <td>0</td>\n",
       "      <td>0</td>\n",
       "    </tr>\n",
       "  </tbody>\n",
       "</table>\n",
       "</div>\n",
       "      <button class=\"colab-df-convert\" onclick=\"convertToInteractive('df-746e1751-1be5-42bb-86a1-4bb4872a7fc9')\"\n",
       "              title=\"Convert this dataframe to an interactive table.\"\n",
       "              style=\"display:none;\">\n",
       "        \n",
       "  <svg xmlns=\"http://www.w3.org/2000/svg\" height=\"24px\"viewBox=\"0 0 24 24\"\n",
       "       width=\"24px\">\n",
       "    <path d=\"M0 0h24v24H0V0z\" fill=\"none\"/>\n",
       "    <path d=\"M18.56 5.44l.94 2.06.94-2.06 2.06-.94-2.06-.94-.94-2.06-.94 2.06-2.06.94zm-11 1L8.5 8.5l.94-2.06 2.06-.94-2.06-.94L8.5 2.5l-.94 2.06-2.06.94zm10 10l.94 2.06.94-2.06 2.06-.94-2.06-.94-.94-2.06-.94 2.06-2.06.94z\"/><path d=\"M17.41 7.96l-1.37-1.37c-.4-.4-.92-.59-1.43-.59-.52 0-1.04.2-1.43.59L10.3 9.45l-7.72 7.72c-.78.78-.78 2.05 0 2.83L4 21.41c.39.39.9.59 1.41.59.51 0 1.02-.2 1.41-.59l7.78-7.78 2.81-2.81c.8-.78.8-2.07 0-2.86zM5.41 20L4 18.59l7.72-7.72 1.47 1.35L5.41 20z\"/>\n",
       "  </svg>\n",
       "      </button>\n",
       "      \n",
       "  <style>\n",
       "    .colab-df-container {\n",
       "      display:flex;\n",
       "      flex-wrap:wrap;\n",
       "      gap: 12px;\n",
       "    }\n",
       "\n",
       "    .colab-df-convert {\n",
       "      background-color: #E8F0FE;\n",
       "      border: none;\n",
       "      border-radius: 50%;\n",
       "      cursor: pointer;\n",
       "      display: none;\n",
       "      fill: #1967D2;\n",
       "      height: 32px;\n",
       "      padding: 0 0 0 0;\n",
       "      width: 32px;\n",
       "    }\n",
       "\n",
       "    .colab-df-convert:hover {\n",
       "      background-color: #E2EBFA;\n",
       "      box-shadow: 0px 1px 2px rgba(60, 64, 67, 0.3), 0px 1px 3px 1px rgba(60, 64, 67, 0.15);\n",
       "      fill: #174EA6;\n",
       "    }\n",
       "\n",
       "    [theme=dark] .colab-df-convert {\n",
       "      background-color: #3B4455;\n",
       "      fill: #D2E3FC;\n",
       "    }\n",
       "\n",
       "    [theme=dark] .colab-df-convert:hover {\n",
       "      background-color: #434B5C;\n",
       "      box-shadow: 0px 1px 3px 1px rgba(0, 0, 0, 0.15);\n",
       "      filter: drop-shadow(0px 1px 2px rgba(0, 0, 0, 0.3));\n",
       "      fill: #FFFFFF;\n",
       "    }\n",
       "  </style>\n",
       "\n",
       "      <script>\n",
       "        const buttonEl =\n",
       "          document.querySelector('#df-746e1751-1be5-42bb-86a1-4bb4872a7fc9 button.colab-df-convert');\n",
       "        buttonEl.style.display =\n",
       "          google.colab.kernel.accessAllowed ? 'block' : 'none';\n",
       "\n",
       "        async function convertToInteractive(key) {\n",
       "          const element = document.querySelector('#df-746e1751-1be5-42bb-86a1-4bb4872a7fc9');\n",
       "          const dataTable =\n",
       "            await google.colab.kernel.invokeFunction('convertToInteractive',\n",
       "                                                     [key], {});\n",
       "          if (!dataTable) return;\n",
       "\n",
       "          const docLinkHtml = 'Like what you see? Visit the ' +\n",
       "            '<a target=\"_blank\" href=https://colab.research.google.com/notebooks/data_table.ipynb>data table notebook</a>'\n",
       "            + ' to learn more about interactive tables.';\n",
       "          element.innerHTML = '';\n",
       "          dataTable['output_type'] = 'display_data';\n",
       "          await google.colab.output.renderOutput(dataTable, element);\n",
       "          const docLink = document.createElement('div');\n",
       "          docLink.innerHTML = docLinkHtml;\n",
       "          element.appendChild(docLink);\n",
       "        }\n",
       "      </script>\n",
       "    </div>\n",
       "  </div>\n",
       "  "
      ],
      "text/plain": [
       "                    URL  Code_name  Result\n",
       "0   http://www.lynx.com          0       0\n",
       "1   https://www.bv.com/          0       0\n",
       "2  https://www.lytx.com          0       0\n",
       "3   http://www.saic.com          0       0\n",
       "4        http://vhb.com          0       0"
      ]
     },
     "execution_count": 35,
     "metadata": {},
     "output_type": "execute_result"
    }
   ],
   "source": [
    "df = pd.read_csv(\"/content/Final list1.csv\")\n",
    "df.head()"
   ]
  },
  {
   "cell_type": "code",
   "execution_count": 14,
   "metadata": {
    "id": "Y2-uKVDiqTqK"
   },
   "outputs": [],
   "source": [
    "def code_ul_li_li(url):\n",
    "    headers = {\"User-Agent\":\"Mozilla/5.0 (Macintosh; Intel Mac OS X 10_15_4) AppleWebKit/537.36 (KHTML, like Gecko) Chrome/83.0.4103.97 Safari/537.36\"}\n",
    "\n",
    "    html_text = requests.get(url, headers=headers).text\n",
    "    soup = bs(html_text, 'html.parser')\n",
    "    ul=soup.body.ul\n",
    "    key =[]\n",
    "    result ={}\n",
    "    for li in ul.find_all(\"li\", recursive=False):\n",
    "        key = next(li.stripped_strings)\n",
    "        a=li.find_all(\"ul\")\n",
    "        dic={}\n",
    "        for j in range(0,len(a)):\n",
    "            for k in a[j].find_all('li',recursive=False):\n",
    "                if len(list(k.stripped_strings))>1:\n",
    "                    dic.update({list(k.stripped_strings)[0]: list(k.stripped_strings)[1:]})\n",
    "                else:\n",
    "                    dic.update({list(k.stripped_strings)[0]: \"\"})\n",
    "                    result[key]=dic\n",
    "    dic2= dict()\n",
    "    if result!={}:\n",
    "        dic2[\"ul_li_li\"]=result\n",
    "        return dic2\n",
    "    else:\n",
    "        return []"
   ]
  },
  {
   "cell_type": "code",
   "execution_count": 10,
   "metadata": {},
   "outputs": [
    {
     "data": {
      "text/plain": [
       "{'ul_li_li': {'Services': {'Tax Preparation': '',\n",
       "   'Tax Planning': '',\n",
       "   'Tax Issues': '',\n",
       "   'Small Business Accounting': '',\n",
       "   'Quickbooks Services': '',\n",
       "   'Payroll': '',\n",
       "   'Audits': '',\n",
       "   'Bank Financing': '',\n",
       "   'Strategic Business Planning': '',\n",
       "   'New Business Formation': '',\n",
       "   'Non-Profit Organizations': ''},\n",
       "  'Client Forms': {'Upload Files': ''}}}"
      ]
     },
     "execution_count": 10,
     "metadata": {},
     "output_type": "execute_result"
    }
   ],
   "source": [
    "code_ul_li_li(\"http://www.woznytaxco.com\")"
   ]
  },
  {
   "cell_type": "markdown",
   "metadata": {
    "id": "NO4QwyWBYAIt"
   },
   "source": [
    "# Code ul_li"
   ]
  },
  {
   "cell_type": "code",
   "execution_count": 15,
   "metadata": {
    "id": "I5fz_hJWYAkq"
   },
   "outputs": [],
   "source": [
    "import pandas as pd\n",
    "from bs4 import BeautifulSoup as bs\n",
    "import bs4, requests, json\n",
    "import warnings\n",
    "warnings.filterwarnings('ignore')"
   ]
  },
  {
   "cell_type": "code",
   "execution_count": null,
   "metadata": {
    "colab": {
     "base_uri": "https://localhost:8080/",
     "height": 206
    },
    "id": "ZqTAgbeJYJiv",
    "outputId": "c23d45ab-ad2c-4cae-b734-9802af729459"
   },
   "outputs": [
    {
     "data": {
      "text/html": [
       "\n",
       "  <div id=\"df-e63a24cd-98c7-4410-90dd-e922cc526c1e\">\n",
       "    <div class=\"colab-df-container\">\n",
       "      <div>\n",
       "<style scoped>\n",
       "    .dataframe tbody tr th:only-of-type {\n",
       "        vertical-align: middle;\n",
       "    }\n",
       "\n",
       "    .dataframe tbody tr th {\n",
       "        vertical-align: top;\n",
       "    }\n",
       "\n",
       "    .dataframe thead th {\n",
       "        text-align: right;\n",
       "    }\n",
       "</style>\n",
       "<table border=\"1\" class=\"dataframe\">\n",
       "  <thead>\n",
       "    <tr style=\"text-align: right;\">\n",
       "      <th></th>\n",
       "      <th>URL</th>\n",
       "      <th>Code_name</th>\n",
       "      <th>Result</th>\n",
       "    </tr>\n",
       "  </thead>\n",
       "  <tbody>\n",
       "    <tr>\n",
       "      <th>0</th>\n",
       "      <td>http://www.lynx.com</td>\n",
       "      <td>0</td>\n",
       "      <td>0</td>\n",
       "    </tr>\n",
       "    <tr>\n",
       "      <th>1</th>\n",
       "      <td>https://www.bv.com/</td>\n",
       "      <td>0</td>\n",
       "      <td>0</td>\n",
       "    </tr>\n",
       "    <tr>\n",
       "      <th>2</th>\n",
       "      <td>https://www.lytx.com</td>\n",
       "      <td>0</td>\n",
       "      <td>0</td>\n",
       "    </tr>\n",
       "    <tr>\n",
       "      <th>3</th>\n",
       "      <td>http://www.saic.com</td>\n",
       "      <td>0</td>\n",
       "      <td>0</td>\n",
       "    </tr>\n",
       "    <tr>\n",
       "      <th>4</th>\n",
       "      <td>http://vhb.com</td>\n",
       "      <td>0</td>\n",
       "      <td>0</td>\n",
       "    </tr>\n",
       "  </tbody>\n",
       "</table>\n",
       "</div>\n",
       "      <button class=\"colab-df-convert\" onclick=\"convertToInteractive('df-e63a24cd-98c7-4410-90dd-e922cc526c1e')\"\n",
       "              title=\"Convert this dataframe to an interactive table.\"\n",
       "              style=\"display:none;\">\n",
       "        \n",
       "  <svg xmlns=\"http://www.w3.org/2000/svg\" height=\"24px\"viewBox=\"0 0 24 24\"\n",
       "       width=\"24px\">\n",
       "    <path d=\"M0 0h24v24H0V0z\" fill=\"none\"/>\n",
       "    <path d=\"M18.56 5.44l.94 2.06.94-2.06 2.06-.94-2.06-.94-.94-2.06-.94 2.06-2.06.94zm-11 1L8.5 8.5l.94-2.06 2.06-.94-2.06-.94L8.5 2.5l-.94 2.06-2.06.94zm10 10l.94 2.06.94-2.06 2.06-.94-2.06-.94-.94-2.06-.94 2.06-2.06.94z\"/><path d=\"M17.41 7.96l-1.37-1.37c-.4-.4-.92-.59-1.43-.59-.52 0-1.04.2-1.43.59L10.3 9.45l-7.72 7.72c-.78.78-.78 2.05 0 2.83L4 21.41c.39.39.9.59 1.41.59.51 0 1.02-.2 1.41-.59l7.78-7.78 2.81-2.81c.8-.78.8-2.07 0-2.86zM5.41 20L4 18.59l7.72-7.72 1.47 1.35L5.41 20z\"/>\n",
       "  </svg>\n",
       "      </button>\n",
       "      \n",
       "  <style>\n",
       "    .colab-df-container {\n",
       "      display:flex;\n",
       "      flex-wrap:wrap;\n",
       "      gap: 12px;\n",
       "    }\n",
       "\n",
       "    .colab-df-convert {\n",
       "      background-color: #E8F0FE;\n",
       "      border: none;\n",
       "      border-radius: 50%;\n",
       "      cursor: pointer;\n",
       "      display: none;\n",
       "      fill: #1967D2;\n",
       "      height: 32px;\n",
       "      padding: 0 0 0 0;\n",
       "      width: 32px;\n",
       "    }\n",
       "\n",
       "    .colab-df-convert:hover {\n",
       "      background-color: #E2EBFA;\n",
       "      box-shadow: 0px 1px 2px rgba(60, 64, 67, 0.3), 0px 1px 3px 1px rgba(60, 64, 67, 0.15);\n",
       "      fill: #174EA6;\n",
       "    }\n",
       "\n",
       "    [theme=dark] .colab-df-convert {\n",
       "      background-color: #3B4455;\n",
       "      fill: #D2E3FC;\n",
       "    }\n",
       "\n",
       "    [theme=dark] .colab-df-convert:hover {\n",
       "      background-color: #434B5C;\n",
       "      box-shadow: 0px 1px 3px 1px rgba(0, 0, 0, 0.15);\n",
       "      filter: drop-shadow(0px 1px 2px rgba(0, 0, 0, 0.3));\n",
       "      fill: #FFFFFF;\n",
       "    }\n",
       "  </style>\n",
       "\n",
       "      <script>\n",
       "        const buttonEl =\n",
       "          document.querySelector('#df-e63a24cd-98c7-4410-90dd-e922cc526c1e button.colab-df-convert');\n",
       "        buttonEl.style.display =\n",
       "          google.colab.kernel.accessAllowed ? 'block' : 'none';\n",
       "\n",
       "        async function convertToInteractive(key) {\n",
       "          const element = document.querySelector('#df-e63a24cd-98c7-4410-90dd-e922cc526c1e');\n",
       "          const dataTable =\n",
       "            await google.colab.kernel.invokeFunction('convertToInteractive',\n",
       "                                                     [key], {});\n",
       "          if (!dataTable) return;\n",
       "\n",
       "          const docLinkHtml = 'Like what you see? Visit the ' +\n",
       "            '<a target=\"_blank\" href=https://colab.research.google.com/notebooks/data_table.ipynb>data table notebook</a>'\n",
       "            + ' to learn more about interactive tables.';\n",
       "          element.innerHTML = '';\n",
       "          dataTable['output_type'] = 'display_data';\n",
       "          await google.colab.output.renderOutput(dataTable, element);\n",
       "          const docLink = document.createElement('div');\n",
       "          docLink.innerHTML = docLinkHtml;\n",
       "          element.appendChild(docLink);\n",
       "        }\n",
       "      </script>\n",
       "    </div>\n",
       "  </div>\n",
       "  "
      ],
      "text/plain": [
       "                    URL  Code_name  Result\n",
       "0   http://www.lynx.com          0       0\n",
       "1   https://www.bv.com/          0       0\n",
       "2  https://www.lytx.com          0       0\n",
       "3   http://www.saic.com          0       0\n",
       "4        http://vhb.com          0       0"
      ]
     },
     "execution_count": 9,
     "metadata": {},
     "output_type": "execute_result"
    }
   ],
   "source": [
    "df = pd.read_csv(\"/content/Final list1.csv\")\n",
    "df.head()"
   ]
  },
  {
   "cell_type": "code",
   "execution_count": 16,
   "metadata": {
    "id": "AB0JEEdL8zhH"
   },
   "outputs": [],
   "source": [
    "def code_ul_li(url):\n",
    "    headers = {\"User-Agent\":\"Mozilla/5.0 (Macintosh; Intel Mac OS X 10_15_4) AppleWebKit/537.36 (KHTML, like Gecko) Chrome/83.0.4103.97 Safari/537.36\"}\n",
    "\n",
    "    html_text = requests.get(url, headers=headers).text\n",
    "    soup = bs(html_text, 'html.parser')\n",
    "    ul=soup.body.ul\n",
    "    dic3 = dict()\n",
    "    e=soup.find('ul')   # finding all ul\n",
    "    dic={}   # empty dictionary\n",
    "    for e in e.select('li'): # for getting li in main ul\n",
    "        s = list(e.stripped_strings) # stripping extra information\n",
    "        if len(s)>1:  # for avoiding the repeated values\n",
    "            dic.update({s[0]: s[1:]})  # will give output in dictionory form\n",
    "    if dic!={}:\n",
    "        dic3[\"ul_li\"]=dic\n",
    "        return dic3\n",
    "    else:\n",
    "        return []"
   ]
  },
  {
   "cell_type": "code",
   "execution_count": 13,
   "metadata": {
    "id": "qep4HFKfYVWM",
    "outputId": "d6bc02dd-d5b6-4563-81be-d682d1b2376e"
   },
   "outputs": [
    {
     "ename": "AttributeError",
     "evalue": "'NoneType' object has no attribute 'select'",
     "output_type": "error",
     "traceback": [
      "\u001b[1;31m---------------------------------------------------------------------------\u001b[0m",
      "\u001b[1;31mAttributeError\u001b[0m                            Traceback (most recent call last)",
      "\u001b[1;32m<ipython-input-13-89f4ffcfd511>\u001b[0m in \u001b[0;36m<module>\u001b[1;34m\u001b[0m\n\u001b[1;32m----> 1\u001b[1;33m \u001b[0mcode_ul_li\u001b[0m\u001b[1;33m(\u001b[0m\u001b[1;34m\"https://www.ericsson.com/\"\u001b[0m\u001b[1;33m)\u001b[0m\u001b[1;33m\u001b[0m\u001b[1;33m\u001b[0m\u001b[0m\n\u001b[0m",
      "\u001b[1;32m<ipython-input-12-0715d047215d>\u001b[0m in \u001b[0;36mcode_ul_li\u001b[1;34m(url)\u001b[0m\n\u001b[0;32m      8\u001b[0m     \u001b[0me\u001b[0m\u001b[1;33m=\u001b[0m\u001b[0msoup\u001b[0m\u001b[1;33m.\u001b[0m\u001b[0mfind\u001b[0m\u001b[1;33m(\u001b[0m\u001b[1;34m'ul'\u001b[0m\u001b[1;33m)\u001b[0m   \u001b[1;31m# finding all ul\u001b[0m\u001b[1;33m\u001b[0m\u001b[1;33m\u001b[0m\u001b[0m\n\u001b[0;32m      9\u001b[0m     \u001b[0mdic\u001b[0m\u001b[1;33m=\u001b[0m\u001b[1;33m{\u001b[0m\u001b[1;33m}\u001b[0m   \u001b[1;31m# empty dictionary\u001b[0m\u001b[1;33m\u001b[0m\u001b[1;33m\u001b[0m\u001b[0m\n\u001b[1;32m---> 10\u001b[1;33m     \u001b[1;32mfor\u001b[0m \u001b[0me\u001b[0m \u001b[1;32min\u001b[0m \u001b[0me\u001b[0m\u001b[1;33m.\u001b[0m\u001b[0mselect\u001b[0m\u001b[1;33m(\u001b[0m\u001b[1;34m'li'\u001b[0m\u001b[1;33m)\u001b[0m\u001b[1;33m:\u001b[0m \u001b[1;31m# for getting li in main ul\u001b[0m\u001b[1;33m\u001b[0m\u001b[1;33m\u001b[0m\u001b[0m\n\u001b[0m\u001b[0;32m     11\u001b[0m         \u001b[0ms\u001b[0m \u001b[1;33m=\u001b[0m \u001b[0mlist\u001b[0m\u001b[1;33m(\u001b[0m\u001b[0me\u001b[0m\u001b[1;33m.\u001b[0m\u001b[0mstripped_strings\u001b[0m\u001b[1;33m)\u001b[0m \u001b[1;31m# stripping extra information\u001b[0m\u001b[1;33m\u001b[0m\u001b[1;33m\u001b[0m\u001b[0m\n\u001b[0;32m     12\u001b[0m         \u001b[1;32mif\u001b[0m \u001b[0mlen\u001b[0m\u001b[1;33m(\u001b[0m\u001b[0ms\u001b[0m\u001b[1;33m)\u001b[0m\u001b[1;33m>\u001b[0m\u001b[1;36m1\u001b[0m\u001b[1;33m:\u001b[0m  \u001b[1;31m# for avoiding the repeated values\u001b[0m\u001b[1;33m\u001b[0m\u001b[1;33m\u001b[0m\u001b[0m\n",
      "\u001b[1;31mAttributeError\u001b[0m: 'NoneType' object has no attribute 'select'"
     ]
    }
   ],
   "source": [
    "code_ul_li(\"https://www.ericsson.com/\")"
   ]
  },
  {
   "cell_type": "code",
   "execution_count": 14,
   "metadata": {},
   "outputs": [
    {
     "data": {
      "text/plain": [
       "{'ul_li': {'Services': ['Tax Preparation',\n",
       "   'Tax Planning',\n",
       "   'Tax Issues',\n",
       "   'Small Business Accounting',\n",
       "   'Quickbooks Services',\n",
       "   'Payroll',\n",
       "   'Audits',\n",
       "   'Bank Financing',\n",
       "   'Strategic Business Planning',\n",
       "   'New Business Formation',\n",
       "   'Non-Profit Organizations'],\n",
       "  'Client Forms': ['Upload Files']}}"
      ]
     },
     "execution_count": 14,
     "metadata": {},
     "output_type": "execute_result"
    }
   ],
   "source": [
    "code_ul_li(\"http://www.woznytaxco.com\")"
   ]
  },
  {
   "cell_type": "markdown",
   "metadata": {
    "id": "R_1HfgG7YR0V"
   },
   "source": [
    "# Code ul_li_a"
   ]
  },
  {
   "cell_type": "code",
   "execution_count": 17,
   "metadata": {
    "id": "mBCuJsqcYjh_"
   },
   "outputs": [],
   "source": [
    "import pandas as pd\n",
    "from bs4 import BeautifulSoup as bs\n",
    "import bs4, requests, json\n",
    "import warnings\n",
    "warnings.filterwarnings('ignore')"
   ]
  },
  {
   "cell_type": "code",
   "execution_count": null,
   "metadata": {
    "colab": {
     "base_uri": "https://localhost:8080/",
     "height": 206
    },
    "id": "5h4PrS6DYrZj",
    "outputId": "401e8e3f-64bd-4800-ab2f-002a0c6d7079"
   },
   "outputs": [
    {
     "data": {
      "text/html": [
       "\n",
       "  <div id=\"df-2e742b84-604b-4331-bb60-7e65ded35f32\">\n",
       "    <div class=\"colab-df-container\">\n",
       "      <div>\n",
       "<style scoped>\n",
       "    .dataframe tbody tr th:only-of-type {\n",
       "        vertical-align: middle;\n",
       "    }\n",
       "\n",
       "    .dataframe tbody tr th {\n",
       "        vertical-align: top;\n",
       "    }\n",
       "\n",
       "    .dataframe thead th {\n",
       "        text-align: right;\n",
       "    }\n",
       "</style>\n",
       "<table border=\"1\" class=\"dataframe\">\n",
       "  <thead>\n",
       "    <tr style=\"text-align: right;\">\n",
       "      <th></th>\n",
       "      <th>URL</th>\n",
       "      <th>Code_name</th>\n",
       "      <th>Result</th>\n",
       "    </tr>\n",
       "  </thead>\n",
       "  <tbody>\n",
       "    <tr>\n",
       "      <th>0</th>\n",
       "      <td>http://www.lynx.com</td>\n",
       "      <td>0</td>\n",
       "      <td>0</td>\n",
       "    </tr>\n",
       "    <tr>\n",
       "      <th>1</th>\n",
       "      <td>https://www.bv.com/</td>\n",
       "      <td>0</td>\n",
       "      <td>0</td>\n",
       "    </tr>\n",
       "    <tr>\n",
       "      <th>2</th>\n",
       "      <td>https://www.lytx.com</td>\n",
       "      <td>0</td>\n",
       "      <td>0</td>\n",
       "    </tr>\n",
       "    <tr>\n",
       "      <th>3</th>\n",
       "      <td>http://www.saic.com</td>\n",
       "      <td>0</td>\n",
       "      <td>0</td>\n",
       "    </tr>\n",
       "    <tr>\n",
       "      <th>4</th>\n",
       "      <td>http://vhb.com</td>\n",
       "      <td>0</td>\n",
       "      <td>0</td>\n",
       "    </tr>\n",
       "  </tbody>\n",
       "</table>\n",
       "</div>\n",
       "      <button class=\"colab-df-convert\" onclick=\"convertToInteractive('df-2e742b84-604b-4331-bb60-7e65ded35f32')\"\n",
       "              title=\"Convert this dataframe to an interactive table.\"\n",
       "              style=\"display:none;\">\n",
       "        \n",
       "  <svg xmlns=\"http://www.w3.org/2000/svg\" height=\"24px\"viewBox=\"0 0 24 24\"\n",
       "       width=\"24px\">\n",
       "    <path d=\"M0 0h24v24H0V0z\" fill=\"none\"/>\n",
       "    <path d=\"M18.56 5.44l.94 2.06.94-2.06 2.06-.94-2.06-.94-.94-2.06-.94 2.06-2.06.94zm-11 1L8.5 8.5l.94-2.06 2.06-.94-2.06-.94L8.5 2.5l-.94 2.06-2.06.94zm10 10l.94 2.06.94-2.06 2.06-.94-2.06-.94-.94-2.06-.94 2.06-2.06.94z\"/><path d=\"M17.41 7.96l-1.37-1.37c-.4-.4-.92-.59-1.43-.59-.52 0-1.04.2-1.43.59L10.3 9.45l-7.72 7.72c-.78.78-.78 2.05 0 2.83L4 21.41c.39.39.9.59 1.41.59.51 0 1.02-.2 1.41-.59l7.78-7.78 2.81-2.81c.8-.78.8-2.07 0-2.86zM5.41 20L4 18.59l7.72-7.72 1.47 1.35L5.41 20z\"/>\n",
       "  </svg>\n",
       "      </button>\n",
       "      \n",
       "  <style>\n",
       "    .colab-df-container {\n",
       "      display:flex;\n",
       "      flex-wrap:wrap;\n",
       "      gap: 12px;\n",
       "    }\n",
       "\n",
       "    .colab-df-convert {\n",
       "      background-color: #E8F0FE;\n",
       "      border: none;\n",
       "      border-radius: 50%;\n",
       "      cursor: pointer;\n",
       "      display: none;\n",
       "      fill: #1967D2;\n",
       "      height: 32px;\n",
       "      padding: 0 0 0 0;\n",
       "      width: 32px;\n",
       "    }\n",
       "\n",
       "    .colab-df-convert:hover {\n",
       "      background-color: #E2EBFA;\n",
       "      box-shadow: 0px 1px 2px rgba(60, 64, 67, 0.3), 0px 1px 3px 1px rgba(60, 64, 67, 0.15);\n",
       "      fill: #174EA6;\n",
       "    }\n",
       "\n",
       "    [theme=dark] .colab-df-convert {\n",
       "      background-color: #3B4455;\n",
       "      fill: #D2E3FC;\n",
       "    }\n",
       "\n",
       "    [theme=dark] .colab-df-convert:hover {\n",
       "      background-color: #434B5C;\n",
       "      box-shadow: 0px 1px 3px 1px rgba(0, 0, 0, 0.15);\n",
       "      filter: drop-shadow(0px 1px 2px rgba(0, 0, 0, 0.3));\n",
       "      fill: #FFFFFF;\n",
       "    }\n",
       "  </style>\n",
       "\n",
       "      <script>\n",
       "        const buttonEl =\n",
       "          document.querySelector('#df-2e742b84-604b-4331-bb60-7e65ded35f32 button.colab-df-convert');\n",
       "        buttonEl.style.display =\n",
       "          google.colab.kernel.accessAllowed ? 'block' : 'none';\n",
       "\n",
       "        async function convertToInteractive(key) {\n",
       "          const element = document.querySelector('#df-2e742b84-604b-4331-bb60-7e65ded35f32');\n",
       "          const dataTable =\n",
       "            await google.colab.kernel.invokeFunction('convertToInteractive',\n",
       "                                                     [key], {});\n",
       "          if (!dataTable) return;\n",
       "\n",
       "          const docLinkHtml = 'Like what you see? Visit the ' +\n",
       "            '<a target=\"_blank\" href=https://colab.research.google.com/notebooks/data_table.ipynb>data table notebook</a>'\n",
       "            + ' to learn more about interactive tables.';\n",
       "          element.innerHTML = '';\n",
       "          dataTable['output_type'] = 'display_data';\n",
       "          await google.colab.output.renderOutput(dataTable, element);\n",
       "          const docLink = document.createElement('div');\n",
       "          docLink.innerHTML = docLinkHtml;\n",
       "          element.appendChild(docLink);\n",
       "        }\n",
       "      </script>\n",
       "    </div>\n",
       "  </div>\n",
       "  "
      ],
      "text/plain": [
       "                    URL  Code_name  Result\n",
       "0   http://www.lynx.com          0       0\n",
       "1   https://www.bv.com/          0       0\n",
       "2  https://www.lytx.com          0       0\n",
       "3   http://www.saic.com          0       0\n",
       "4        http://vhb.com          0       0"
      ]
     },
     "execution_count": 12,
     "metadata": {},
     "output_type": "execute_result"
    }
   ],
   "source": [
    "df = pd.read_csv(\"/content/Final list1.csv\")\n",
    "df.head()"
   ]
  },
  {
   "cell_type": "code",
   "execution_count": 18,
   "metadata": {
    "id": "E4W6FKR6iLmS"
   },
   "outputs": [],
   "source": [
    "def code_ul_li_a(url):\n",
    "\n",
    "    headers = {\"User-Agent\":\"Mozilla/5.0 (Macintosh; Intel Mac OS X 10_15_4) AppleWebKit/537.36 (KHTML, like Gecko) Chrome/83.0.4103.97 Safari/537.36\"}\n",
    "\n",
    "    html_text = requests.get(url, headers=headers).text #Change\n",
    "    soup = bs(html_text, 'html.parser')\n",
    "    ul=soup.body.ul\n",
    "    result1 = []\n",
    "    dic4 = dict()\n",
    "    for i in soup.select('ul li a'):      # searching for all ul li and anchor tags\n",
    "        for j in i.stripped_strings:    # stripping the unnecessary information\n",
    "            result1.append(j)\n",
    "    if result1!=[]:\n",
    "        dic4[\"ul_li_a\"]=result1\n",
    "        return dic4\n",
    "    else:\n",
    "        return []"
   ]
  },
  {
   "cell_type": "code",
   "execution_count": 17,
   "metadata": {},
   "outputs": [
    {
     "data": {
      "text/plain": [
       "{'ul_li_a': ['Home',\n",
       "  'Tax Updates',\n",
       "  'About the Firm',\n",
       "  'Why Wozny Tax Co',\n",
       "  'Services',\n",
       "  'Tax Preparation',\n",
       "  'Tax Planning',\n",
       "  'Tax Issues',\n",
       "  'Small Business Accounting',\n",
       "  'Quickbooks Services',\n",
       "  'Payroll',\n",
       "  'Audits',\n",
       "  'Bank Financing',\n",
       "  'Strategic Business Planning',\n",
       "  'New Business Formation',\n",
       "  'Non-Profit Organizations',\n",
       "  'Industry Worksheets',\n",
       "  'Contact',\n",
       "  'Client Forms',\n",
       "  'Upload Files',\n",
       "  'Client Forms',\n",
       "  'Home',\n",
       "  'Tax Updates',\n",
       "  'About the Firm',\n",
       "  'Why Wozny Tax Co',\n",
       "  'Services',\n",
       "  'Tax Preparation',\n",
       "  'Tax Planning',\n",
       "  'Tax Issues',\n",
       "  'Small Business Accounting',\n",
       "  'Quickbooks Services',\n",
       "  'Payroll',\n",
       "  'Audits',\n",
       "  'Bank Financing',\n",
       "  'Strategic Business Planning',\n",
       "  'New Business Formation',\n",
       "  'Non-Profit Organizations',\n",
       "  'Industry Worksheets',\n",
       "  'Contact',\n",
       "  'Client Forms',\n",
       "  'Upload Files',\n",
       "  'Client Forms']}"
      ]
     },
     "execution_count": 17,
     "metadata": {},
     "output_type": "execute_result"
    }
   ],
   "source": [
    "code_ul_li_a(\"http://www.woznytaxco.com\")"
   ]
  },
  {
   "cell_type": "code",
   "execution_count": 42,
   "metadata": {
    "colab": {
     "base_uri": "https://localhost:8080/"
    },
    "id": "2XDLPBJKYuhH",
    "outputId": "80f387f3-68a0-4a37-a793-77df9f87e4b8"
   },
   "outputs": [
    {
     "data": {
      "text/plain": [
       "[]"
      ]
     },
     "execution_count": 42,
     "metadata": {},
     "output_type": "execute_result"
    }
   ],
   "source": [
    "code_ul_li_a(\"https://www.ericsson.com/\")"
   ]
  },
  {
   "cell_type": "markdown",
   "metadata": {},
   "source": [
    "Returning Error Name"
   ]
  },
  {
   "cell_type": "code",
   "execution_count": 44,
   "metadata": {
    "id": "xyr0DpXFxQ3T"
   },
   "outputs": [],
   "source": [
    "def error_name(url):\n",
    "    err_name =[]\n",
    "    try:\n",
    "        return code_ul_li(url)\n",
    "    except Exception as ex:\n",
    "        err_name.extend([sys.exc_info()])\n",
    "        return err_name"
   ]
  },
  {
   "cell_type": "code",
   "execution_count": 45,
   "metadata": {
    "id": "rdDg-ausxQ3U",
    "outputId": "3a7b6d80-0547-4583-cc3a-a463f1bb7639"
   },
   "outputs": [
    {
     "data": {
      "text/plain": [
       "[(AttributeError,\n",
       "  AttributeError(\"'NoneType' object has no attribute 'select'\"),\n",
       "  <traceback at 0x18fd4884d40>)]"
      ]
     },
     "execution_count": 45,
     "metadata": {},
     "output_type": "execute_result"
    }
   ],
   "source": [
    "url = \"https://www.ericsson.com/\"\n",
    "error_name(url)"
   ]
  },
  {
   "cell_type": "markdown",
   "metadata": {
    "id": "coQShnTzZSFs"
   },
   "source": [
    "# Global Function"
   ]
  },
  {
   "cell_type": "markdown",
   "metadata": {},
   "source": [
    "Flowchart of the function"
   ]
  },
  {
   "attachments": {
    "Main%20diagram-2.jpg": {
     "image/jpeg": "[encoded data removed]"
    }
   },
   "cell_type": "markdown",
   "metadata": {},
   "source": [
    "![Main%20diagram-2.jpg](attachment:Main%20diagram-2.jpg)"
   ]
  },
  {
   "cell_type": "code",
   "execution_count": 22,
   "metadata": {
    "id": "mzpmCMnqPJaM"
   },
   "outputs": [],
   "source": [
    "def main(url):\n",
    "    error_exception = []\n",
    "    try:\n",
    "        if code_ul_li(url)!=[]: #Move to the next code if NONE output or EXCEPTION\n",
    "            return code_ul_li(url)\n",
    "        else:\n",
    "            raise ValueError('Not found')\n",
    "    except Exception as ex:\n",
    "        error_exception.extend([sys.exc_info()[0]])\n",
    "        try:\n",
    "            if code_nav_string(url)!=[]: #Move to the next code if NONE output or EXCEPTION\n",
    "                return code_nav_string(url)\n",
    "            else:\n",
    "                raise ValueError('Not found')\n",
    "        except Exception as ex:\n",
    "            error_exception.extend([sys.exc_info()[0]])\n",
    "            try:\n",
    "                if code_ul_li_li(url)!=[]: #Move to the next code if NONE output or EXCEPTION\n",
    "                    return code_ul_li_li(url)\n",
    "                else:\n",
    "                    raise ValueError('Not found')\n",
    "            except Exception as ex:\n",
    "                error_exception.extend([sys.exc_info()[0]])\n",
    "                try:\n",
    "                    if code_ul_li_a(url)!=[]: #Move to the next code if NONE output or EXCEPTION\n",
    "                        return code_ul_li_a(url)\n",
    "                    else:\n",
    "                        raise ValueError('Not found')\n",
    "                except Exception as ex:\n",
    "                    error_exception.extend([sys.exc_info()[0]])\n",
    "    return error_exception"
   ]
  },
  {
   "cell_type": "code",
   "execution_count": 20,
   "metadata": {
    "scrolled": true
   },
   "outputs": [
    {
     "data": {
      "text/plain": [
       "{'ul_li': {'Services': ['Tax Preparation',\n",
       "   'Tax Planning',\n",
       "   'Tax Issues',\n",
       "   'Small Business Accounting',\n",
       "   'Quickbooks Services',\n",
       "   'Payroll',\n",
       "   'Audits',\n",
       "   'Bank Financing',\n",
       "   'Strategic Business Planning',\n",
       "   'New Business Formation',\n",
       "   'Non-Profit Organizations'],\n",
       "  'Client Forms': ['Upload Files']}}"
      ]
     },
     "execution_count": 20,
     "metadata": {},
     "output_type": "execute_result"
    }
   ],
   "source": [
    "main('http://www.woznytaxco.com')"
   ]
  },
  {
   "cell_type": "code",
   "execution_count": 23,
   "metadata": {},
   "outputs": [
    {
     "data": {
      "text/plain": [
       "{'ul_li_a': ['Income Tax Audits',\n",
       "  'Criminal Tax',\n",
       "  'California Sales Tax Audits',\n",
       "  'Multi-States Tax Issues',\n",
       "  'California Payroll Tax Audits',\n",
       "  'International Tax Issues',\n",
       "  'IRS Tax Debt Resolution',\n",
       "  'Tax Optimization',\n",
       "  'California Tax Debt Resolution',\n",
       "  'Business, Real Estate, & Transactional Tax',\n",
       "  'Divorce & Taxes',\n",
       "  'Big Ideas',\n",
       "  'Learning Center',\n",
       "  'Pricing',\n",
       "  'Schedule a Consultation',\n",
       "  'About',\n",
       "  'Contact',\n",
       "  'Income Tax Audits',\n",
       "  'California Sales Tax Audits',\n",
       "  'California Payroll Tax Audits',\n",
       "  'IRS Tax Debt Resolution',\n",
       "  'California Tax Debt Resolution',\n",
       "  'Divorce & Taxes',\n",
       "  'Criminal Tax',\n",
       "  'Multi-States Tax Issues',\n",
       "  'International Tax Issues',\n",
       "  'Tax Optimization',\n",
       "  'Business, Real Estate, & Transactional Tax',\n",
       "  'Big Ideas',\n",
       "  'Learning Center',\n",
       "  'Pricing',\n",
       "  'Schedule a Consultation',\n",
       "  'About',\n",
       "  'Contact',\n",
       "  'Privacy Policy']}"
      ]
     },
     "execution_count": 23,
     "metadata": {},
     "output_type": "execute_result"
    }
   ],
   "source": [
    "main('https://sambrotman.com')"
   ]
  },
  {
   "cell_type": "code",
   "execution_count": 52,
   "metadata": {
    "scrolled": true
   },
   "outputs": [
    {
     "data": {
      "text/plain": [
       "[(requests.exceptions.ConnectionError,\n",
       "  requests.exceptions.ConnectionError(urllib3.exceptions.MaxRetryError(\"HTTPConnectionPool(host='www.paxpure.com', port=80): Max retries exceeded with url: / (Caused by NewConnectionError('<urllib3.connection.HTTPConnection object at 0x0000018FD4ED97C0>: Failed to establish a new connection: [WinError 10060] A connection attempt failed because the connected party did not properly respond after a period of time, or established connection failed because connected host has failed to respond'))\")),\n",
       "  <traceback at 0x18fd49bd600>),\n",
       " (requests.exceptions.ConnectionError,\n",
       "  requests.exceptions.ConnectionError(urllib3.exceptions.MaxRetryError(\"HTTPConnectionPool(host='www.paxpure.com', port=80): Max retries exceeded with url: / (Caused by NewConnectionError('<urllib3.connection.HTTPConnection object at 0x0000018FD4ED9130>: Failed to establish a new connection: [WinError 10060] A connection attempt failed because the connected party did not properly respond after a period of time, or established connection failed because connected host has failed to respond'))\")),\n",
       "  <traceback at 0x18fd49cbb40>),\n",
       " (requests.exceptions.ConnectionError,\n",
       "  requests.exceptions.ConnectionError(urllib3.exceptions.MaxRetryError(\"HTTPConnectionPool(host='www.paxpure.com', port=80): Max retries exceeded with url: / (Caused by NewConnectionError('<urllib3.connection.HTTPConnection object at 0x0000018FD4C0D7C0>: Failed to establish a new connection: [WinError 10060] A connection attempt failed because the connected party did not properly respond after a period of time, or established connection failed because connected host has failed to respond'))\")),\n",
       "  <traceback at 0x18fd4955140>),\n",
       " (requests.exceptions.ConnectionError,\n",
       "  requests.exceptions.ConnectionError(urllib3.exceptions.MaxRetryError(\"HTTPConnectionPool(host='www.paxpure.com', port=80): Max retries exceeded with url: / (Caused by NewConnectionError('<urllib3.connection.HTTPConnection object at 0x0000018FD4BA5E80>: Failed to establish a new connection: [WinError 10060] A connection attempt failed because the connected party did not properly respond after a period of time, or established connection failed because connected host has failed to respond'))\")),\n",
       "  <traceback at 0x18fd4a0e280>)]"
      ]
     },
     "execution_count": 52,
     "metadata": {},
     "output_type": "execute_result"
    }
   ],
   "source": [
    "main('http://www.paxpure.com') #Appending the whole Error"
   ]
  },
  {
   "cell_type": "code",
   "execution_count": 54,
   "metadata": {
    "scrolled": true
   },
   "outputs": [
    {
     "data": {
      "text/plain": [
       "[requests.exceptions.ConnectionError,\n",
       " requests.exceptions.ConnectionError,\n",
       " requests.exceptions.ConnectionError,\n",
       " requests.exceptions.ConnectionError]"
      ]
     },
     "execution_count": 54,
     "metadata": {},
     "output_type": "execute_result"
    }
   ],
   "source": [
    "main('http://www.paxpure.com') #Printing only the 'class' of the Error"
   ]
  },
  {
   "cell_type": "markdown",
   "metadata": {},
   "source": [
    "### _Trying codes on list of websites..._"
   ]
  },
  {
   "cell_type": "code",
   "execution_count": 26,
   "metadata": {
    "colab": {
     "base_uri": "https://localhost:8080/"
    },
    "id": "hBXnz92IxQ3Y",
    "outputId": "4212553e-6b13-4933-97a1-cff6c0f676b7",
    "scrolled": true
   },
   "outputs": [
    {
     "name": "stderr",
     "output_type": "stream",
     "text": [
      "100%|██████████████████████████████████████████████████████████████████████████████████| 20/20 [02:28<00:00,  7.45s/it]\n"
     ]
    }
   ],
   "source": [
    "urls = list(ddf[ddf.columns[3]])\n",
    "url_random = sample(urls,20)  \n",
    "output1= []\n",
    "for url in tqdm(url_random):\n",
    "    output1.append(main(url))"
   ]
  },
  {
   "cell_type": "code",
   "execution_count": 27,
   "metadata": {},
   "outputs": [
    {
     "data": {
      "text/plain": [
       "['https://www.odysseymedia.com',\n",
       " 'http://www.dullestech.com/',\n",
       " 'https://www.21stcenturyequityadvisors.com/',\n",
       " 'http://www.grandperformances.org',\n",
       " 'https://www.gregspearsrealty.com/',\n",
       " 'https://www.jlpcpas.com/',\n",
       " 'https://www.belamiecommercesolutions.com/',\n",
       " 'https://www.cyclepedia.com/',\n",
       " 'https://olr.com/',\n",
       " 'https://www.lovcoconstruction.com',\n",
       " 'https://www.reaction.global/',\n",
       " 'https://www.cfnhomeloans.com',\n",
       " 'https://www.addediq.com/',\n",
       " 'https://www.recasafinancial.com',\n",
       " 'https://www.virtualvisiontech.com',\n",
       " 'https://www.bdaglobal.com',\n",
       " 'https://www.viscot.com/',\n",
       " 'https://www.lotusschool.org/',\n",
       " 'https://www.indemco.com',\n",
       " 'http://www.trademarkplasticscorp.com/']"
      ]
     },
     "execution_count": 27,
     "metadata": {},
     "output_type": "execute_result"
    }
   ],
   "source": [
    "url_random"
   ]
  },
  {
   "cell_type": "code",
   "execution_count": 28,
   "metadata": {
    "colab": {
     "base_uri": "https://localhost:8080/"
    },
    "id": "IfJSRtmg2llV",
    "outputId": "2553ecb8-111b-46d0-8c50-a8e86dacb0e7"
   },
   "outputs": [
    {
     "data": {
      "text/plain": [
       "[[requests.exceptions.ConnectionError,\n",
       "  requests.exceptions.ConnectionError,\n",
       "  requests.exceptions.ConnectionError,\n",
       "  requests.exceptions.ConnectionError],\n",
       " {'ul_li': {'WebGrants': ['Overview',\n",
       "    'Features',\n",
       "    'Customers',\n",
       "    'Pricing',\n",
       "    'Support',\n",
       "    'Security'],\n",
       "   'Contact': ['Contact Us', 'About Us']}},\n",
       " {'ul_li': {'About': ['Introduction',\n",
       "    'Mission Statement & Investment Philosophy',\n",
       "    'Thoughts on Retirement',\n",
       "    'The Power of Compounding']}},\n",
       " {'ul_li': {'<autoplay speed=4></autoplay>Looking back at summer 2022': ['GP Season Recap'],\n",
       "   'Concert video Archive': ['Watch on Youtube'],\n",
       "   'Become a member today': ['Support The Arts']}},\n",
       " {'ul_li': {'Search': ['Advanced Search',\n",
       "    'Search by Map',\n",
       "    'Property Tracker',\n",
       "    'Featured Listings'],\n",
       "   'Buyers': ['Buyers',\n",
       "    'Mortgage Calculator',\n",
       "    'First Time Buyers',\n",
       "    'Making an Offer',\n",
       "    'What Are Closing Costs?',\n",
       "    'Escrow: Now What?',\n",
       "    'Financial Terms Glossary',\n",
       "    'Personalized Home Search'],\n",
       "   'Sellers': ['Selling a Home',\n",
       "    'Pricing Your Home',\n",
       "    'Marketing Your Home',\n",
       "    'Showing Your Home',\n",
       "    'Adding Value',\n",
       "    'Free Market Analysis']}},\n",
       " {'ul_li': {'Who We Serve': ['❯',\n",
       "    'Dentists',\n",
       "    'Veterinarians',\n",
       "    'Law Firms',\n",
       "    'Professional Service Providers',\n",
       "    'Medical Professionals'],\n",
       "   'Resources': ['❯',\n",
       "    'Resources Library',\n",
       "    'Advantage',\n",
       "    'Magazine',\n",
       "    'QuickReads',\n",
       "    'eBooks',\n",
       "    'Forms, Documents & Links',\n",
       "    'Refund Tracker',\n",
       "    'Video Library',\n",
       "    'Blog',\n",
       "    'Newsletter'],\n",
       "   'Advantage': ['Magazine']}},\n",
       " {'nav_string': [[['Home',\n",
       "     'What We Do',\n",
       "     'Our Stores',\n",
       "     'Who Are We',\n",
       "     'Careers',\n",
       "     'Contact',\n",
       "     'More'],\n",
       "    {}]]},\n",
       " {'ul_li': {'Our Products': ['Repair Manuals',\n",
       "    'Cyclepedia Pro',\n",
       "    'Classifieds',\n",
       "    'Cyclepedia Training',\n",
       "    'Common Service Manual']}},\n",
       " {'nav_string': [['Data Platform',\n",
       "    'RE Marketing Stats',\n",
       "    'Web Development',\n",
       "    'Marketing Services',\n",
       "    'Our Story',\n",
       "    'BLOG',\n",
       "    'Contact',\n",
       "    'Advertise With Us']]},\n",
       " {'ul_li': {'About': ['OUR VISION', 'OUR VALUES', 'OUR TEAM', 'SAFETY'],\n",
       "   'Services': ['RECYCLE SITE', 'ON-SITE CRUSHING', 'PROJECTS']}},\n",
       " [AttributeError, ValueError, AttributeError, ValueError],\n",
       " [requests.exceptions.SSLError,\n",
       "  requests.exceptions.SSLError,\n",
       "  requests.exceptions.SSLError,\n",
       "  requests.exceptions.SSLError],\n",
       " {'nav_string': [[['services',\n",
       "     'technology products',\n",
       "     'case studies',\n",
       "     'founder',\n",
       "     'contact',\n",
       "     'More'],\n",
       "    {}],\n",
       "   ['services', 'products', 'case studies', 'founder', 'contact'],\n",
       "   [['services',\n",
       "     'technology products',\n",
       "     'case studies',\n",
       "     'founder',\n",
       "     'contact',\n",
       "     'More'],\n",
       "    {}],\n",
       "   [['services',\n",
       "     'technology products',\n",
       "     'case studies',\n",
       "     'founder',\n",
       "     'contact',\n",
       "     'More'],\n",
       "    {}]]},\n",
       " {'ul_li': {'ABOUT US': ['Leadership', 'Contact'],\n",
       "   'OUR SERVICES': ['Purchase & Rehab Loan Program',\n",
       "    'Loan Portfolio Servicing']}},\n",
       " [AttributeError, ValueError, AttributeError, ValueError],\n",
       " {'ul_li': {'About Us': ['Our Team',\n",
       "    'Contract Vehicles',\n",
       "    '8(a) STARS III',\n",
       "    'eFAST',\n",
       "    'GSA MAS Schedule',\n",
       "    'Other Schedules',\n",
       "    'Our Partners',\n",
       "    'Articles',\n",
       "    'Opportunities',\n",
       "    'Volunteer Efforts'],\n",
       "   'Contract Vehicles': ['8(a) STARS III',\n",
       "    'eFAST',\n",
       "    'GSA MAS Schedule',\n",
       "    'Other Schedules'],\n",
       "   'Services': ['Organizational Resilience',\n",
       "    'Process Improvement',\n",
       "    'Tech Solutions',\n",
       "    'Training & Exercises',\n",
       "    'Staff Augmentation',\n",
       "    'International'],\n",
       "   'Software': ['Continuum'],\n",
       "   'Clients': ['Client List', 'Testimonials']}},\n",
       " {'nav_string': [{'1-800-221-0658': ['Products',\n",
       "     'Clinical Resources',\n",
       "     'Testimonials',\n",
       "     'Contact Us',\n",
       "     'About',\n",
       "     'About Our InksAbout Our TipsAbout Our BarrelsFrequently Asked QuestionsNews']},\n",
       "   ['Markers',\n",
       "    'Marker Alternatives',\n",
       "    'Sharps Safety',\n",
       "    'Patient & Staff Safety etc.',\n",
       "    'Urinals',\n",
       "    'Drapes & Wraps & Rulers']]},\n",
       " {'ul_li': {'About Us': ['School Board',\n",
       "    'Mission & Vision',\n",
       "    'LSE Facts',\n",
       "    '2019 School Performance Framework',\n",
       "    'Financial Transparency',\n",
       "    'Careers'],\n",
       "   'Departments': ['Athletics',\n",
       "    'School Counseling',\n",
       "    'School Health',\n",
       "    'Performing Arts',\n",
       "    'Visual Arts']}},\n",
       " {'nav_string': [['Home',\n",
       "    'About',\n",
       "    'OverviewManagementOur TeamTokio Marine HCC',\n",
       "    'Why Indemco',\n",
       "    'Products',\n",
       "    'Contact']]},\n",
       " [AttributeError, ValueError, AttributeError, ValueError]]"
      ]
     },
     "execution_count": 28,
     "metadata": {},
     "output_type": "execute_result"
    }
   ],
   "source": [
    "output1"
   ]
  },
  {
   "cell_type": "code",
   "execution_count": 170,
   "metadata": {},
   "outputs": [],
   "source": [
    "error_list=[] #A list containing all the errors raise by each code\n",
    "outputs_count = 0\n",
    "for i in output1:\n",
    "    if type(i) is list:\n",
    "        for j in i:\n",
    "            error_class = re.sub(r'\\W+', '', str(j).split()[1])\n",
    "            if error_class!='ValueError':\n",
    "                error_list.append(error_class)\n",
    "    else:\n",
    "        outputs_count+=1\n",
    "error_count = len(url_random)-outputs_count "
   ]
  },
  {
   "cell_type": "code",
   "execution_count": 171,
   "metadata": {},
   "outputs": [
    {
     "data": {
      "text/plain": [
       "(15, 5)"
      ]
     },
     "execution_count": 171,
     "metadata": {},
     "output_type": "execute_result"
    }
   ],
   "source": [
    "outputs_count, error_count"
   ]
  },
  {
   "cell_type": "code",
   "execution_count": 175,
   "metadata": {},
   "outputs": [
    {
     "data": {
      "text/plain": [
       "['requestsexceptionsConnectionError',\n",
       " 'requestsexceptionsConnectionError',\n",
       " 'requestsexceptionsConnectionError',\n",
       " 'requestsexceptionsConnectionError',\n",
       " 'AttributeError',\n",
       " 'AttributeError',\n",
       " 'requestsexceptionsSSLError',\n",
       " 'requestsexceptionsSSLError',\n",
       " 'requestsexceptionsSSLError',\n",
       " 'requestsexceptionsSSLError',\n",
       " 'AttributeError',\n",
       " 'AttributeError',\n",
       " 'AttributeError',\n",
       " 'AttributeError']"
      ]
     },
     "execution_count": 175,
     "metadata": {},
     "output_type": "execute_result"
    }
   ],
   "source": [
    "error_list "
   ]
  },
  {
   "cell_type": "code",
   "execution_count": 176,
   "metadata": {},
   "outputs": [],
   "source": [
    "el = pd.Series(error_list) #converting the errors_list into pandas series"
   ]
  },
  {
   "cell_type": "code",
   "execution_count": 177,
   "metadata": {},
   "outputs": [
    {
     "data": {
      "text/plain": [
       "['requestsexceptionsConnectionError',\n",
       " 'AttributeError',\n",
       " 'requestsexceptionsSSLError']"
      ]
     },
     "execution_count": 177,
     "metadata": {},
     "output_type": "execute_result"
    }
   ],
   "source": [
    "errors_unique = list(el.unique()) #list of unique errors found during scraping of websites\n",
    "errors_unique"
   ]
  }
 ],
 "metadata": {
  "colab": {
   "provenance": []
  },
  "kernelspec": {
   "display_name": "Python 3",
   "language": "python",
   "name": "python3"
  },
  "language_info": {
   "codemirror_mode": {
    "name": "ipython",
    "version": 3
   },
   "file_extension": ".py",
   "mimetype": "text/x-python",
   "name": "python",
   "nbconvert_exporter": "python",
   "pygments_lexer": "ipython3",
   "version": "3.8.8"
  }
 },
 "nbformat": 4,
 "nbformat_minor": 1
}
